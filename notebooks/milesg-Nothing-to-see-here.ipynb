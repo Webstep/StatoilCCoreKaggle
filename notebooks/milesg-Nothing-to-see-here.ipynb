{
 "cells": [
  {
   "cell_type": "code",
   "execution_count": 1,
   "metadata": {},
   "outputs": [
    {
     "name": "stdout",
     "output_type": "stream",
     "text": [
      "Appending /home/milesg/Projects/StatoilCCoreKaggle/notebooks/.. to path\n"
     ]
    },
    {
     "data": {
      "text/plain": [
       "['/home/milesg/Projects/StatoilCCoreKaggle/notebooks/..',\n",
       " '',\n",
       " '/home/milesg/anaconda/lib/python27.zip',\n",
       " '/home/milesg/anaconda/lib/python2.7',\n",
       " '/home/milesg/anaconda/lib/python2.7/plat-linux2',\n",
       " '/home/milesg/anaconda/lib/python2.7/lib-tk',\n",
       " '/home/milesg/anaconda/lib/python2.7/lib-old',\n",
       " '/home/milesg/anaconda/lib/python2.7/lib-dynload',\n",
       " '/home/milesg/anaconda/lib/python2.7/site-packages',\n",
       " '/home/milesg/anaconda/lib/python2.7/site-packages/setuptools-27.2.0-py2.7.egg',\n",
       " '/home/milesg/anaconda/lib/python2.7/site-packages/IPython/extensions',\n",
       " '/home/milesg/.ipython']"
      ]
     },
     "execution_count": 1,
     "metadata": {},
     "output_type": "execute_result"
    }
   ],
   "source": [
    "import adjust_path\n",
    "import sys\n",
    "from icc import data_loader\n",
    "sys.path"
   ]
  }
 ],
 "metadata": {
  "kernelspec": {
   "display_name": "Python 2",
   "language": "python",
   "name": "python2"
  },
  "language_info": {
   "codemirror_mode": {
    "name": "ipython",
    "version": 2
   },
   "file_extension": ".py",
   "mimetype": "text/x-python",
   "name": "python",
   "nbconvert_exporter": "python",
   "pygments_lexer": "ipython2",
   "version": "2.7.13"
  }
 },
 "nbformat": 4,
 "nbformat_minor": 2
}
