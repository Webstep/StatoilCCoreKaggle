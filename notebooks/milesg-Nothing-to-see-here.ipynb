{
 "cells": [
  {
   "cell_type": "code",
   "execution_count": null,
   "metadata": {},
   "outputs": [],
   "source": [
    "! "
   ]
  },
  {
   "cell_type": "code",
   "execution_count": 1,
   "metadata": {},
   "outputs": [
    {
     "name": "stdout",
     "output_type": "stream",
     "text": [
      "Appending \"/code/notebooks/..\" to path\n"
     ]
    }
   ],
   "source": [
    "%matplotlib inline\n",
    "%config Completer.use_jedi=False\n",
    "\n",
    "import os\n",
    "import sys\n",
    "\n",
    "import numpy as np\n",
    "import pandas as pd\n",
    "import matplotlib.pyplot as plt\n",
    "\n",
    "import torch\n",
    "import torch.nn as nn\n",
    "import torch.nn.functional as F\n",
    "import torch.optim as optim\n",
    "from torch.autograd import Variable\n",
    "\n",
    "from sklearn.model_selection import train_test_split\n",
    "from sklearn.utils import shuffle\n",
    "\n",
    "\n",
    "# Local imports\n",
    "import adjust_path  # Before doing any local imports\n",
    "from icc.data_loader import DataLoader"
   ]
  },
  {
   "cell_type": "code",
   "execution_count": 28,
   "metadata": {},
   "outputs": [
    {
     "data": {
      "text/plain": [
       "dtype('O')"
      ]
     },
     "execution_count": 28,
     "metadata": {},
     "output_type": "execute_result"
    }
   ],
   "source": [
    "data.band_"
   ]
  },
  {
   "cell_type": "code",
   "execution_count": 23,
   "metadata": {},
   "outputs": [
    {
     "data": {
      "text/html": [
       "<div>\n",
       "<style scoped>\n",
       "    .dataframe tbody tr th:only-of-type {\n",
       "        vertical-align: middle;\n",
       "    }\n",
       "\n",
       "    .dataframe tbody tr th {\n",
       "        vertical-align: top;\n",
       "    }\n",
       "\n",
       "    .dataframe thead th {\n",
       "        text-align: right;\n",
       "    }\n",
       "</style>\n",
       "<table border=\"1\" class=\"dataframe\">\n",
       "  <thead>\n",
       "    <tr style=\"text-align: right;\">\n",
       "      <th></th>\n",
       "      <th>band_1</th>\n",
       "      <th>band_2</th>\n",
       "      <th>inc_angle</th>\n",
       "      <th>inc_angle_was_null</th>\n",
       "    </tr>\n",
       "  </thead>\n",
       "  <tbody>\n",
       "    <tr>\n",
       "      <th>629</th>\n",
       "      <td>[-19.10911, -20.747238, -22.16855, -21.977692,...</td>\n",
       "      <td>[-27.273907, -26.933289, -28.788416, -32.31028...</td>\n",
       "      <td>42.0554</td>\n",
       "      <td>0</td>\n",
       "    </tr>\n",
       "    <tr>\n",
       "      <th>733</th>\n",
       "      <td>[-24.409096, -23.279524, -22.865889, -19.82871...</td>\n",
       "      <td>[-28.300589, -35.535202, -30.429806, -27.93108...</td>\n",
       "      <td>38.4591</td>\n",
       "      <td>0</td>\n",
       "    </tr>\n",
       "    <tr>\n",
       "      <th>1151</th>\n",
       "      <td>[-24.989557, -23.797901, -22.750198, -25.51631...</td>\n",
       "      <td>[-28.01491, -31.010216, -29.174866, -26.992035...</td>\n",
       "      <td>37.6877</td>\n",
       "      <td>0</td>\n",
       "    </tr>\n",
       "    <tr>\n",
       "      <th>1238</th>\n",
       "      <td>[-15.648924, -15.648924, -16.427361, -16.24833...</td>\n",
       "      <td>[-27.773245, -27.773245, -24.251495, -23.00861...</td>\n",
       "      <td>33.6352</td>\n",
       "      <td>0</td>\n",
       "    </tr>\n",
       "    <tr>\n",
       "      <th>1346</th>\n",
       "      <td>[-14.05308, -13.576157, -13.777454, -15.334047...</td>\n",
       "      <td>[-24.32584, -24.557549, -23.252285, -23.456738...</td>\n",
       "      <td>35.3112</td>\n",
       "      <td>0</td>\n",
       "    </tr>\n",
       "  </tbody>\n",
       "</table>\n",
       "</div>"
      ],
      "text/plain": [
       "                                                 band_1  \\\n",
       "629   [-19.10911, -20.747238, -22.16855, -21.977692,...   \n",
       "733   [-24.409096, -23.279524, -22.865889, -19.82871...   \n",
       "1151  [-24.989557, -23.797901, -22.750198, -25.51631...   \n",
       "1238  [-15.648924, -15.648924, -16.427361, -16.24833...   \n",
       "1346  [-14.05308, -13.576157, -13.777454, -15.334047...   \n",
       "\n",
       "                                                 band_2  inc_angle  \\\n",
       "629   [-27.273907, -26.933289, -28.788416, -32.31028...    42.0554   \n",
       "733   [-28.300589, -35.535202, -30.429806, -27.93108...    38.4591   \n",
       "1151  [-28.01491, -31.010216, -29.174866, -26.992035...    37.6877   \n",
       "1238  [-27.773245, -27.773245, -24.251495, -23.00861...    33.6352   \n",
       "1346  [-24.32584, -24.557549, -23.252285, -23.456738...    35.3112   \n",
       "\n",
       "      inc_angle_was_null  \n",
       "629                    0  \n",
       "733                    0  \n",
       "1151                   0  \n",
       "1238                   0  \n",
       "1346                   0  "
      ]
     },
     "execution_count": 23,
     "metadata": {},
     "output_type": "execute_result"
    }
   ],
   "source": [
    "data = DataLoader.load_train()\n",
    "data = pd.DataFrame(data)\n",
    "data = data.replace(to_replace='na', value=np.NaN)\n",
    "\n",
    "fill_val = data.inc_angle.median()\n",
    "data['inc_angle'], data['inc_angle_was_null'] = zip(*data.inc_angle.map(lambda val: (float(val), 0) \n",
    "                                                                         if pd.notnull(val) else (fill_val, 1)))\n",
    "\n",
    "data['band_1'] = data['band_1'].map(np.array)\n",
    "data['band_2'] = data['band_2'].map(np.array)\n",
    "\n",
    "xTrain, xTest, yTrain, yTest = train_test_split(data[['band_1', 'band_2', 'inc_angle', 'inc_angle_was_null']],\n",
    "                                                data['is_iceberg']\n",
    "                                               )\n",
    "xTrain.head()"
   ]
  },
  {
   "cell_type": "code",
   "execution_count": 3,
   "metadata": {},
   "outputs": [
    {
     "data": {
      "image/png": "[encoded data removed]",
      "text/plain": [
       "<matplotlib.figure.Figure at 0x7f4ebcd028d0>"
      ]
     },
     "metadata": {},
     "output_type": "display_data"
    }
   ],
   "source": [
    "plt.imshow(xTest.iloc[0]['band_2'].reshape(-1, 75))\n",
    "plt.show()"
   ]
  },
  {
   "cell_type": "code",
   "execution_count": null,
   "metadata": {},
   "outputs": [],
   "source": []
  },
  {
   "cell_type": "code",
   "execution_count": 113,
   "metadata": {},
   "outputs": [
    {
     "data": {
      "text/plain": [
       "DoubleNet (\n",
       "  (pool): MaxPool2d (size=(2, 2), stride=(2, 2), dilation=(1, 1))\n",
       "  (input1_layer1_conv2d): Conv2d(1, 8, kernel_size=(7, 7), stride=(1, 1), padding=(5, 5))\n",
       "  (input1_layer2_conv2d): Conv2d(8, 16, kernel_size=(5, 5), stride=(1, 1), padding=(3, 3))\n",
       "  (input1_layer3_conv2d): Conv2d(16, 32, kernel_size=(3, 3), stride=(1, 1), padding=(1, 1))\n",
       "  (input1_layer4_fc): Linear (3200 -> 512)\n",
       "  (input2_layer1_conv2d): Conv2d(1, 8, kernel_size=(7, 7), stride=(1, 1), padding=(5, 5))\n",
       "  (input2_layer2_conv2d): Conv2d(8, 16, kernel_size=(5, 5), stride=(1, 1), padding=(3, 3))\n",
       "  (input2_layer3_conv2d): Conv2d(16, 32, kernel_size=(3, 3), stride=(1, 1), padding=(1, 1))\n",
       "  (input2_layer4_fc): Linear (3200 -> 512)\n",
       "  (input3_layer1_fc1): Linear (2 -> 24)\n",
       "  (fc1): Linear (1048 -> 512)\n",
       "  (fc2): Linear (512 -> 512)\n",
       "  (fc3): Linear (512 -> 1)\n",
       ")"
      ]
     },
     "execution_count": 113,
     "metadata": {},
     "output_type": "execute_result"
    }
   ],
   "source": [
    "class DoubleNet(nn.Module):\n",
    "    \n",
    "    def __init__(self):\n",
    "        super(DoubleNet, self).__init__()\n",
    "        \n",
    "        self.pool = nn.MaxPool2d(kernel_size=2, stride=2)\n",
    "        \n",
    "        # Input 1 branch\n",
    "        self.input1_layer1_conv2d = nn.Conv2d(in_channels=1, out_channels=8,  kernel_size=7, padding=5)\n",
    "        self.input1_layer2_conv2d = nn.Conv2d(in_channels=8, out_channels=16, kernel_size=5, padding=3)\n",
    "        self.input1_layer3_conv2d = nn.Conv2d(in_channels=16, out_channels=32, kernel_size=3, padding=1)\n",
    "        self.input1_layer4_fc = nn.Linear(in_features=3200, out_features=512)\n",
    "        \n",
    "        # Input 2 branch\n",
    "        self.input2_layer1_conv2d = nn.Conv2d(in_channels=1, out_channels=8,  kernel_size=7, padding=5)\n",
    "        self.input2_layer2_conv2d = nn.Conv2d(in_channels=8, out_channels=16, kernel_size=5, padding=3)\n",
    "        self.input2_layer3_conv2d = nn.Conv2d(in_channels=16, out_channels=32, kernel_size=3, padding=1)\n",
    "        self.input2_layer4_fc = nn.Linear(in_features=3200, out_features=512)\n",
    "        \n",
    "        # Input 3 branch \"inc_angle\"\n",
    "        self.input3_layer1_fc1 = nn.Linear(in_features=2, out_features=24)\n",
    "        \n",
    "        # Concatenated branch, fully connected stream\n",
    "        self.fc1 = nn.Linear(in_features=1048, out_features=512)\n",
    "        self.fc2 = nn.Linear(in_features=512, out_features=512)\n",
    "        self.fc3 = nn.Linear(in_features=512, out_features=1)\n",
    "        \n",
    "    def forward(self, input1, input2, input3):\n",
    "        \n",
    "        input1 = self.pool(F.relu(self.input1_layer1_conv2d(input1)))\n",
    "        input1 = self.pool(F.relu(self.input1_layer2_conv2d(input1)))\n",
    "        input1 = self.pool(F.relu(self.input1_layer3_conv2d(input1)))\n",
    "        input1 = F.relu(self.input1_layer4_fc(input1.view(-1, 3200)))\n",
    "        \n",
    "        input2 = self.pool(F.relu(self.input2_layer1_conv2d(input2)))\n",
    "        input2 = self.pool(F.relu(self.input2_layer2_conv2d(input2)))\n",
    "        input2 = self.pool(F.relu(self.input2_layer3_conv2d(input2)))\n",
    "        input2 = F.relu(self.input2_layer4_fc(input2.view(-1, 3200)))\n",
    "        \n",
    "        input3 = self.input3_layer1_fc1(input3)\n",
    "        \n",
    "        combined = torch.cat((input1, input2, input3), 1)\n",
    "        \n",
    "        combined = (self.fc1(combined))\n",
    "        combined = (self.fc2(combined))\n",
    "        combined = F.sigmoid(self.fc3(combined))\n",
    "        \n",
    "        return combined\n",
    "\n",
    "DoubleNet()"
   ]
  },
  {
   "cell_type": "code",
   "execution_count": 125,
   "metadata": {},
   "outputs": [
    {
     "name": "stdout",
     "output_type": "stream",
     "text": [
      "transfering to cuda\n",
      "initializing model\n",
      "defining optimizers\n",
      "concatenated test data\n",
      "test data to variables\n",
      "starting training\n",
      "Epoch: 1 - Loss: 2.076000\n",
      "Epoch: 2 - Loss: 1.196142\n",
      "Epoch: 3 - Loss: 0.870083\n",
      "Epoch: 4 - Loss: 0.740674\n",
      "Epoch: 5 - Loss: 0.708482\n",
      "Epoch: 6 - Loss: 0.672659\n",
      "Epoch: 7 - Loss: 0.705477\n",
      "Epoch: 8 - Loss: 0.612550\n",
      "Epoch: 9 - Loss: 0.614219\n",
      "Epoch: 10 - Loss: 0.582758\n",
      "Epoch: 11 - Loss: 0.553874\n",
      "Epoch: 12 - Loss: 0.587189\n",
      "Epoch: 13 - Loss: 0.597466\n",
      "Epoch: 14 - Loss: 0.553963\n",
      "Epoch: 15 - Loss: 0.563541\n",
      "Epoch: 16 - Loss: 0.515052\n",
      "Epoch: 17 - Loss: 0.549819\n",
      "Epoch: 18 - Loss: 0.484234\n",
      "Epoch: 19 - Loss: 0.501610\n",
      "Epoch: 20 - Loss: 0.550184\n",
      "Epoch: 21 - Loss: 0.446855\n",
      "Epoch: 22 - Loss: 0.421391\n",
      "Epoch: 23 - Loss: 0.551787\n",
      "Epoch: 24 - Loss: 0.395196\n",
      "Epoch: 25 - Loss: 0.413363\n",
      "Epoch: 26 - Loss: 0.386812\n",
      "Epoch: 27 - Loss: 0.402467\n",
      "Epoch: 28 - Loss: 0.313353\n",
      "Epoch: 29 - Loss: 0.382273\n",
      "Epoch: 30 - Loss: 0.321432\n",
      "Epoch: 31 - Loss: 0.267831\n",
      "Epoch: 32 - Loss: 0.363179\n",
      "Epoch: 33 - Loss: 0.243628\n",
      "Epoch: 34 - Loss: 0.280022\n",
      "Epoch: 35 - Loss: 0.252617\n"
     ]
    }
   ],
   "source": [
    "print('transfering to cuda')\n",
    "print('initializing model')\n",
    "net = DoubleNet()\n",
    "net.cuda()\n",
    "\n",
    "n_epoch = 35\n",
    "batch_size = 300\n",
    "\n",
    "print('defining optimizers')\n",
    "optimizer = optim.Adam(net.parameters(), lr=0.001)\n",
    "criterion = nn.BCELoss()\n",
    "\n",
    "# Test data setup\n",
    "print('concatenated test data')\n",
    "testBand1 = np.concatenate(xTest.iloc[:]['band_1'].values, axis=0).reshape(-1, 1, 75, 75)\n",
    "testBand2 = np.concatenate(xTest.iloc[:]['band_2'].values, axis=0).reshape(-1, 1, 75, 75)\n",
    "testAngle = xTest.iloc[:][['inc_angle', 'inc_angle_was_null']].values.reshape(-1, 2)\n",
    "\n",
    "print('test data to variables')\n",
    "testBand1 = Variable(torch.FloatTensor(testBand1).cuda(), requires_grad=False)\n",
    "testBand2 = Variable(torch.FloatTensor(testBand2).cuda(), requires_grad=False)\n",
    "testAngle = Variable(torch.FloatTensor(testAngle).cuda(), requires_grad=False)\n",
    "\n",
    "print('starting training')\n",
    "for epoch in range(n_epoch):\n",
    "    \n",
    "    for sample in (np.random.randint(0, xTrain.shape[0], size=batch_size) \n",
    "                   for i in range(0, int(xTrain.shape[0] / batch_size))):\n",
    "        \n",
    "        band1 = np.concatenate(xTrain.iloc[sample]['band_1'].values, axis=0).reshape(-1, 1, 75, 75,)\n",
    "        band2 = np.concatenate(xTrain.iloc[sample]['band_2'].values, axis=0).reshape(-1, 1, 75, 75,)\n",
    "        angle = xTrain.iloc[sample][['inc_angle', 'inc_angle_was_null']].values.reshape(-1, 2)\n",
    "\n",
    "        band1 = Variable(torch.FloatTensor(band1).cuda())\n",
    "        band2 = Variable(torch.FloatTensor(band2).cuda())\n",
    "        angle = Variable(torch.FloatTensor(angle).cuda())\n",
    "        target = Variable(torch.FloatTensor(yTrain.iloc[sample].values.astype(float).reshape(-1, 1)).cuda())\n",
    "\n",
    "        # batch step\n",
    "        optimizer.zero_grad()\n",
    "\n",
    "        out = net(band1, band2, angle)\n",
    "        loss = criterion(out, target)\n",
    "        loss.backward()\n",
    "\n",
    "        optimizer.step()\n",
    "    \n",
    "    print('Epoch: {} - Loss: {:.6f}'.format(epoch+1, loss.data.cpu().numpy()[0]))\n",
    "    "
   ]
  },
  {
   "cell_type": "code",
   "execution_count": 126,
   "metadata": {},
   "outputs": [
    {
     "name": "stdout",
     "output_type": "stream",
     "text": [
      "[  8.10688734e-01   9.78571117e-01   4.79852649e-13   2.29496986e-01\n",
      "   7.57992625e-01   1.05010255e-25   4.22547273e-02   9.87084687e-01\n",
      "   3.90100852e-02   5.29151618e-01]\n"
     ]
    },
    {
     "data": {
      "text/plain": [
       "0.33689655363859888"
      ]
     },
     "execution_count": 126,
     "metadata": {},
     "output_type": "execute_result"
    }
   ],
   "source": [
    "# Check score of testing set\n",
    "from sklearn.metrics import log_loss\n",
    "\n",
    "pred = net(testBand1, testBand2, testAngle).data.cpu().numpy().squeeze()\n",
    "\n",
    "print(pred[:10])\n",
    "log_loss(yTest, pred, )"
   ]
  },
  {
   "cell_type": "code",
   "execution_count": 127,
   "metadata": {},
   "outputs": [
    {
     "data": {
      "text/plain": [
       "array([  8.10688734e-01,   9.78571117e-01,   4.79852649e-13,\n",
       "         2.29496986e-01,   7.57992625e-01,   1.05010255e-25,\n",
       "         4.22547273e-02,   9.87084687e-01,   3.90100852e-02,\n",
       "         5.29151618e-01], dtype=float32)"
      ]
     },
     "execution_count": 127,
     "metadata": {},
     "output_type": "execute_result"
    }
   ],
   "source": [
    "pred[:10]"
   ]
  },
  {
   "cell_type": "code",
   "execution_count": 112,
   "metadata": {},
   "outputs": [
    {
     "name": "stdout",
     "output_type": "stream",
     "text": [
      "torch.Size([2, 32, 10, 10])\n",
      "3200\n"
     ]
    },
    {
     "data": {
      "text/plain": [
       "Variable containing:\n",
       " 2.3612 -1.6764  0.6856  ...   1.2746 -0.7021  0.0448\n",
       " 2.2727 -1.8845  0.5845  ...   1.0592 -0.7833  0.0286\n",
       "[torch.FloatTensor of size 2x512]"
      ]
     },
     "execution_count": 112,
     "metadata": {},
     "output_type": "execute_result"
    }
   ],
   "source": [
    "# network layer trials\n",
    "input1_layer1_conv2d = nn.Conv2d(in_channels=1, out_channels=8,  kernel_size=7, padding=5)\n",
    "input1_layer2_conv2d = nn.Conv2d(in_channels=8, out_channels=16, kernel_size=5, padding=3)\n",
    "input1_layer3_conv2d = nn.Conv2d(in_channels=16, out_channels=32, kernel_size=3, padding=1)\n",
    "\n",
    "fc1 = nn.Linear(in_features=3200, out_features=512)\n",
    "pool = nn.MaxPool2d(kernel_size=2, stride=2)\n",
    "\n",
    "pics = np.concatenate(xTest.iloc[0:2]['band_2'].values, axis=0).reshape(-1, 1, 75, 75,)\n",
    "pics = torch.FloatTensor(pics)\n",
    "pics = Variable(pics)\n",
    "\n",
    "pics = pool(input1_layer1_conv2d(pics))\n",
    "pics = pool(input1_layer2_conv2d(pics))\n",
    "pics = pool(input1_layer3_conv2d(pics))\n",
    "print(pics.size())\n",
    "print(np.prod(pics.size()[1:]))\n",
    "\n",
    "fc1(pics.view(-1, 3200))"
   ]
  }
 ],
 "metadata": {
  "kernelspec": {
   "display_name": "Python 3",
   "language": "python",
   "name": "python3"
  },
  "language_info": {
   "codemirror_mode": {
    "name": "ipython",
    "version": 3
   },
   "file_extension": ".py",
   "mimetype": "text/x-python",
   "name": "python",
   "nbconvert_exporter": "python",
   "pygments_lexer": "ipython3",
   "version": "3.5.4"
  }
 },
 "nbformat": 4,
 "nbformat_minor": 2
}
