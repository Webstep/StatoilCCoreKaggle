{
 "cells": [
  {
   "cell_type": "markdown",
   "metadata": {},
   "source": [
    "Remarks:\n",
    "\n",
    "To successfully load tensorflow with CUDA, make sure to start your docker container with:\n",
    "\n",
    "`docker run --runtime=nvidia --rm -v $(pwd):/code -p 8888:8888 milesg/kaggle-icc jupyter notebook --allow-root --ip 0.0.0.0 --port 8888 --no-browser`\n",
    "     \n",
    "Instead of:\n",
    "\n",
    "`docker-compose up --build`"
   ]
  },
  {
   "cell_type": "code",
   "execution_count": null,
   "metadata": {},
   "outputs": [],
   "source": [
    "import numpy as np\n",
    "import pandas as pd\n",
    "\n",
    "from sklearn.model_selection import train_test_split\n",
    "\n",
    "import tensorflow as tf\n",
    "\n",
    "# Local imports\n",
    "import adjust_path  # Before doing any local imports\n",
    "from icc.data_loader import DataLoader\n",
    "from icc.models.alexnet_model import AlexNet"
   ]
  },
  {
   "cell_type": "markdown",
   "metadata": {},
   "source": [
    "X columns contain `[\"band1\", \"band2\", \"Inc_angle\"]`\n",
    "\n",
    "Y columns contain `[\"is_iceberg\"]`"
   ]
  },
  {
   "cell_type": "code",
   "execution_count": null,
   "metadata": {},
   "outputs": [],
   "source": [
    "X, y = DataLoader.load_train()\n",
    "print(\"{} samples in X and y\".format(len(X)))"
   ]
  },
  {
   "cell_type": "code",
   "execution_count": null,
   "metadata": {},
   "outputs": [],
   "source": [
    "save_dir = \"../icc/models/spencer/alexnet/saved_model/\"\n",
    "\n",
    "# Initialize AlexNet classifier.\n",
    "#clf = AlexNet(n_epochs=2, save_path=save_dir)\n",
    "\n",
    "# If you want to debug the network without saving the model, uncomment the line below.\n",
    "clf = AlexNet(n_epochs=30,\n",
    "              batch_size=64,\n",
    "              learning_rate=1e-4,\n",
    "              keep_prob=0.8, \n",
    "              debug=True)"
   ]
  },
  {
   "cell_type": "code",
   "execution_count": null,
   "metadata": {},
   "outputs": [],
   "source": [
    "# Train the model\n",
    "clf.fit(X, y)"
   ]
  },
  {
   "cell_type": "code",
   "execution_count": null,
   "metadata": {},
   "outputs": [],
   "source": [
    "out = clf.predict_proba(X)\n",
    "\n",
    "assert out.shape[0] == X.shape[0], \\\n",
    "'Output mismatch: In samples {} -> out samples: {}'.format(X.shape[0], out.shape[0])\n",
    "assert out.shape[1] == 2, \\\n",
    "'Output mismatch: Output should contain 2 columns, you have {}'.format(out.shape[1])"
   ]
  },
  {
   "cell_type": "code",
   "execution_count": null,
   "metadata": {},
   "outputs": [],
   "source": [
    "pred = clf.predict(X)\n",
    "\n",
    "assert pred.shape[0] == X.shape[0], \\\n",
    "'Output mismatch: IN samples is {} -> OUT samples is {}'.format(X.shape[0], out.shape[0])"
   ]
  },
  {
   "cell_type": "code",
   "execution_count": null,
   "metadata": {},
   "outputs": [],
   "source": []
  },
  {
   "cell_type": "code",
   "execution_count": null,
   "metadata": {},
   "outputs": [],
   "source": []
  }
 ],
 "metadata": {
  "kernelspec": {
   "display_name": "Python 3",
   "language": "python",
   "name": "python3"
  },
  "language_info": {
   "codemirror_mode": {
    "name": "ipython",
    "version": 3
   },
   "file_extension": ".py",
   "mimetype": "text/x-python",
   "name": "python",
   "nbconvert_exporter": "python",
   "pygments_lexer": "ipython3",
   "version": "3.5.4"
  }
 },
 "nbformat": 4,
 "nbformat_minor": 2
}
