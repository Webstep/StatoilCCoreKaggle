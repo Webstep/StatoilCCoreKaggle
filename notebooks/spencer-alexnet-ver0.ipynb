{
 "cells": [
  {
   "cell_type": "markdown",
   "metadata": {},
   "source": [
    "Remarks:\n",
    "\n",
    "To successfully load tensorflow with CUDA, make sure to start your docker container with:\n",
    "\n",
    "`docker run --runtime=nvidia --rm -v $(pwd):/code -p 8888:8888 milesg/kaggle-icc jupyter notebook --allow-root --ip 0.0.0.0 --port 8888 --no-browser`\n",
    "     \n",
    "Instead of:\n",
    "\n",
    "`docker-compose up --build`"
   ]
  },
  {
   "cell_type": "code",
   "execution_count": 1,
   "metadata": {},
   "outputs": [
    {
     "name": "stdout",
     "output_type": "stream",
     "text": [
      "Appending \"/code/notebooks/..\" to path\n"
     ]
    }
   ],
   "source": [
    "import numpy as np\n",
    "import pandas as pd\n",
    "\n",
    "from sklearn.model_selection import train_test_split\n",
    "\n",
    "import tensorflow as tf\n",
    "\n",
    "# Local imports\n",
    "import adjust_path  # Before doing any local imports\n",
    "from icc.data_loader import DataLoader\n",
    "from icc.models.alexnet_model import AlexNet"
   ]
  },
  {
   "cell_type": "code",
   "execution_count": 2,
   "metadata": {},
   "outputs": [
    {
     "name": "stdout",
     "output_type": "stream",
     "text": [
      "1604\n"
     ]
    }
   ],
   "source": [
    "# X columns contain [\"band1\", \"band2\", \"Inc_angle\"]\n",
    "# Y columns contain [\"is_iceberg\"]\n",
    "X, y = DataLoader.load_train()\n",
    "print(len(X))\n",
    "\n",
    "# Check if nans are present in column inc_angle. If yes, replace nan with 0.\n",
    "# NOTE! Not sure if changing 0's is a good idea because it might be treated like the angle 0.\n",
    "X['inc_angle_missing'] = X.inc_angle.map(pd.isnull)\n",
    "X.inc_angle.fillna(value=0, inplace=True)"
   ]
  },
  {
   "cell_type": "code",
   "execution_count": 3,
   "metadata": {},
   "outputs": [],
   "source": [
    "model_path = \"../icc/models/spencer/alexnet/ver0/saved_model/\"\n",
    "\n",
    "# Create an alexnet\n",
    "clf = AlexNet(n_epochs=2, save_path=model_path)"
   ]
  },
  {
   "cell_type": "code",
   "execution_count": 4,
   "metadata": {},
   "outputs": [
    {
     "name": "stdout",
     "output_type": "stream",
     "text": [
      "(1604, 75, 75, 3)\n"
     ]
    }
   ],
   "source": [
    "model = clf.fit(X, y)"
   ]
  }
 ],
 "metadata": {
  "kernelspec": {
   "display_name": "Python 3",
   "language": "python",
   "name": "python3"
  },
  "language_info": {
   "codemirror_mode": {
    "name": "ipython",
    "version": 3
   },
   "file_extension": ".py",
   "mimetype": "text/x-python",
   "name": "python",
   "nbconvert_exporter": "python",
   "pygments_lexer": "ipython3",
   "version": "3.5.4"
  }
 },
 "nbformat": 4,
 "nbformat_minor": 2
}
