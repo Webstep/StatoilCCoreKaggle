{
 "cells": [
  {
   "cell_type": "code",
   "execution_count": 140,
   "metadata": {},
   "outputs": [],
   "source": [
    "%matplotlib inline\n",
    "%config Completer.use_jedi=False\n",
    "\n",
    "import os\n",
    "import sys\n",
    "\n",
    "import numpy as np\n",
    "import pandas as pd\n",
    "import matplotlib.pyplot as plt\n",
    "\n",
    "import torch\n",
    "import torch.nn as nn\n",
    "import torch.nn.functional as F\n",
    "import torch.optim as optim\n",
    "from torch.autograd import Variable\n",
    "\n",
    "from sklearn.model_selection import train_test_split, cross_val_score\n",
    "from sklearn.utils import shuffle\n",
    "\n",
    "\n",
    "# Local imports\n",
    "import adjust_path  # Before doing any local imports\n",
    "from icc.data_loader import DataLoader\n",
    "from icc.models.gangsta_net import GangstaNet"
   ]
  },
  {
   "cell_type": "code",
   "execution_count": 180,
   "metadata": {},
   "outputs": [
    {
     "data": {
      "text/html": [
       "<div>\n",
       "<style scoped>\n",
       "    .dataframe tbody tr th:only-of-type {\n",
       "        vertical-align: middle;\n",
       "    }\n",
       "\n",
       "    .dataframe tbody tr th {\n",
       "        vertical-align: top;\n",
       "    }\n",
       "\n",
       "    .dataframe thead th {\n",
       "        text-align: right;\n",
       "    }\n",
       "</style>\n",
       "<table border=\"1\" class=\"dataframe\">\n",
       "  <thead>\n",
       "    <tr style=\"text-align: right;\">\n",
       "      <th></th>\n",
       "      <th>band_1</th>\n",
       "      <th>band_2</th>\n",
       "      <th>inc_angle</th>\n",
       "    </tr>\n",
       "  </thead>\n",
       "  <tbody>\n",
       "    <tr>\n",
       "      <th>0</th>\n",
       "      <td>[-27.878361, -27.15416, -28.668615, -29.537971...</td>\n",
       "      <td>[-27.154118, -29.537888, -31.0306, -32.190483,...</td>\n",
       "      <td>43.9239</td>\n",
       "    </tr>\n",
       "    <tr>\n",
       "      <th>1</th>\n",
       "      <td>[-12.242375, -14.920305, -14.920363, -12.66633...</td>\n",
       "      <td>[-31.506321, -27.984554, -26.645678, -23.76760...</td>\n",
       "      <td>38.1562</td>\n",
       "    </tr>\n",
       "    <tr>\n",
       "      <th>2</th>\n",
       "      <td>[-24.603676, -24.603714, -24.871029, -23.15277...</td>\n",
       "      <td>[-24.870956, -24.092632, -20.653963, -19.41104...</td>\n",
       "      <td>45.2859</td>\n",
       "    </tr>\n",
       "    <tr>\n",
       "      <th>3</th>\n",
       "      <td>[-22.454607, -23.082819, -23.998013, -23.99805...</td>\n",
       "      <td>[-27.889421, -27.519794, -27.165262, -29.10350...</td>\n",
       "      <td>43.8306</td>\n",
       "    </tr>\n",
       "    <tr>\n",
       "      <th>4</th>\n",
       "      <td>[-26.006956, -23.164886, -23.164886, -26.89116...</td>\n",
       "      <td>[-27.206915, -30.259186, -30.259186, -23.16495...</td>\n",
       "      <td>35.6256</td>\n",
       "    </tr>\n",
       "  </tbody>\n",
       "</table>\n",
       "</div>"
      ],
      "text/plain": [
       "                                              band_1  \\\n",
       "0  [-27.878361, -27.15416, -28.668615, -29.537971...   \n",
       "1  [-12.242375, -14.920305, -14.920363, -12.66633...   \n",
       "2  [-24.603676, -24.603714, -24.871029, -23.15277...   \n",
       "3  [-22.454607, -23.082819, -23.998013, -23.99805...   \n",
       "4  [-26.006956, -23.164886, -23.164886, -26.89116...   \n",
       "\n",
       "                                              band_2  inc_angle  \n",
       "0  [-27.154118, -29.537888, -31.0306, -32.190483,...    43.9239  \n",
       "1  [-31.506321, -27.984554, -26.645678, -23.76760...    38.1562  \n",
       "2  [-24.870956, -24.092632, -20.653963, -19.41104...    45.2859  \n",
       "3  [-27.889421, -27.519794, -27.165262, -29.10350...    43.8306  \n",
       "4  [-27.206915, -30.259186, -30.259186, -23.16495...    35.6256  "
      ]
     },
     "execution_count": 180,
     "metadata": {},
     "output_type": "execute_result"
    }
   ],
   "source": [
    "X, y = DataLoader.load_train()\n",
    "X.head()"
   ]
  },
  {
   "cell_type": "code",
   "execution_count": 181,
   "metadata": {},
   "outputs": [
    {
     "data": {
      "text/plain": [
       "<matplotlib.image.AxesImage at 0x7fc448b76828>"
      ]
     },
     "execution_count": 181,
     "metadata": {},
     "output_type": "execute_result"
    },
    {
     "data": {
      "image/png": "[encoded data removed]",
      "text/plain": [
       "<matplotlib.figure.Figure at 0x7fc44836e278>"
      ]
     },
     "metadata": {},
     "output_type": "display_data"
    }
   ],
   "source": [
    "pic = X.iloc[4].band_1\n",
    "\n",
    "pic = pic.reshape(75, 75)\n",
    "cropped = pic[25:50, 25:50]\n",
    "cropped\n",
    "\n",
    "plt.imshow(cropped)"
   ]
  },
  {
   "cell_type": "code",
   "execution_count": 184,
   "metadata": {},
   "outputs": [
    {
     "data": {
      "text/html": [
       "<div>\n",
       "<style scoped>\n",
       "    .dataframe tbody tr th:only-of-type {\n",
       "        vertical-align: middle;\n",
       "    }\n",
       "\n",
       "    .dataframe tbody tr th {\n",
       "        vertical-align: top;\n",
       "    }\n",
       "\n",
       "    .dataframe thead th {\n",
       "        text-align: right;\n",
       "    }\n",
       "</style>\n",
       "<table border=\"1\" class=\"dataframe\">\n",
       "  <thead>\n",
       "    <tr style=\"text-align: right;\">\n",
       "      <th></th>\n",
       "      <th>inc_angle</th>\n",
       "      <th>band_1_pixel_0</th>\n",
       "      <th>band_1_pixel_1</th>\n",
       "      <th>band_1_pixel_2</th>\n",
       "      <th>band_1_pixel_3</th>\n",
       "      <th>band_1_pixel_4</th>\n",
       "      <th>band_1_pixel_5</th>\n",
       "      <th>band_1_pixel_6</th>\n",
       "      <th>band_1_pixel_7</th>\n",
       "      <th>band_1_pixel_8</th>\n",
       "      <th>...</th>\n",
       "      <th>band_2_pixel_1216</th>\n",
       "      <th>band_2_pixel_1217</th>\n",
       "      <th>band_2_pixel_1218</th>\n",
       "      <th>band_2_pixel_1219</th>\n",
       "      <th>band_2_pixel_1220</th>\n",
       "      <th>band_2_pixel_1221</th>\n",
       "      <th>band_2_pixel_1222</th>\n",
       "      <th>band_2_pixel_1223</th>\n",
       "      <th>band_2_pixel_1224</th>\n",
       "      <th>inc_angle_missing</th>\n",
       "    </tr>\n",
       "  </thead>\n",
       "  <tbody>\n",
       "    <tr>\n",
       "      <th>0</th>\n",
       "      <td>43.9239</td>\n",
       "      <td>0.379479</td>\n",
       "      <td>0.341160</td>\n",
       "      <td>0.227552</td>\n",
       "      <td>0.203953</td>\n",
       "      <td>0.191204</td>\n",
       "      <td>0.191203</td>\n",
       "      <td>0.216043</td>\n",
       "      <td>0.295375</td>\n",
       "      <td>0.268654</td>\n",
       "      <td>...</td>\n",
       "      <td>0.443559</td>\n",
       "      <td>0.443559</td>\n",
       "      <td>0.355697</td>\n",
       "      <td>0.402933</td>\n",
       "      <td>0.417113</td>\n",
       "      <td>0.443553</td>\n",
       "      <td>0.430631</td>\n",
       "      <td>0.355690</td>\n",
       "      <td>0.443549</td>\n",
       "      <td>0</td>\n",
       "    </tr>\n",
       "    <tr>\n",
       "      <th>1</th>\n",
       "      <td>38.1562</td>\n",
       "      <td>0.312667</td>\n",
       "      <td>0.286984</td>\n",
       "      <td>0.230311</td>\n",
       "      <td>0.308043</td>\n",
       "      <td>0.330327</td>\n",
       "      <td>0.263977</td>\n",
       "      <td>0.096065</td>\n",
       "      <td>0.145276</td>\n",
       "      <td>0.263972</td>\n",
       "      <td>...</td>\n",
       "      <td>0.241897</td>\n",
       "      <td>0.241895</td>\n",
       "      <td>0.241895</td>\n",
       "      <td>0.258536</td>\n",
       "      <td>0.233136</td>\n",
       "      <td>0.233134</td>\n",
       "      <td>0.224057</td>\n",
       "      <td>0.241887</td>\n",
       "      <td>0.274128</td>\n",
       "      <td>0</td>\n",
       "    </tr>\n",
       "    <tr>\n",
       "      <th>2</th>\n",
       "      <td>45.2859</td>\n",
       "      <td>0.381405</td>\n",
       "      <td>0.336507</td>\n",
       "      <td>0.324430</td>\n",
       "      <td>0.411993</td>\n",
       "      <td>0.440371</td>\n",
       "      <td>0.564504</td>\n",
       "      <td>0.522418</td>\n",
       "      <td>0.411986</td>\n",
       "      <td>0.359585</td>\n",
       "      <td>...</td>\n",
       "      <td>0.602096</td>\n",
       "      <td>0.448465</td>\n",
       "      <td>0.448463</td>\n",
       "      <td>0.537534</td>\n",
       "      <td>0.464346</td>\n",
       "      <td>0.479783</td>\n",
       "      <td>0.577165</td>\n",
       "      <td>0.464338</td>\n",
       "      <td>0.157621</td>\n",
       "      <td>0</td>\n",
       "    </tr>\n",
       "    <tr>\n",
       "      <th>3</th>\n",
       "      <td>43.8306</td>\n",
       "      <td>0.222102</td>\n",
       "      <td>0.189738</td>\n",
       "      <td>0.209668</td>\n",
       "      <td>0.255970</td>\n",
       "      <td>0.209666</td>\n",
       "      <td>0.182708</td>\n",
       "      <td>0.255967</td>\n",
       "      <td>0.332185</td>\n",
       "      <td>0.299271</td>\n",
       "      <td>...</td>\n",
       "      <td>0.250509</td>\n",
       "      <td>0.280589</td>\n",
       "      <td>0.331840</td>\n",
       "      <td>0.319957</td>\n",
       "      <td>0.234020</td>\n",
       "      <td>0.216398</td>\n",
       "      <td>0.216397</td>\n",
       "      <td>0.265983</td>\n",
       "      <td>0.343185</td>\n",
       "      <td>0</td>\n",
       "    </tr>\n",
       "    <tr>\n",
       "      <th>4</th>\n",
       "      <td>35.6256</td>\n",
       "      <td>0.283790</td>\n",
       "      <td>0.332612</td>\n",
       "      <td>0.367011</td>\n",
       "      <td>0.283782</td>\n",
       "      <td>0.213542</td>\n",
       "      <td>0.213540</td>\n",
       "      <td>0.341545</td>\n",
       "      <td>0.341543</td>\n",
       "      <td>0.332594</td>\n",
       "      <td>...</td>\n",
       "      <td>0.220375</td>\n",
       "      <td>0.431798</td>\n",
       "      <td>0.466202</td>\n",
       "      <td>0.457940</td>\n",
       "      <td>0.466197</td>\n",
       "      <td>0.474244</td>\n",
       "      <td>0.474242</td>\n",
       "      <td>0.403292</td>\n",
       "      <td>0.360834</td>\n",
       "      <td>0</td>\n",
       "    </tr>\n",
       "  </tbody>\n",
       "</table>\n",
       "<p>5 rows × 2452 columns</p>\n",
       "</div>"
      ],
      "text/plain": [
       "   inc_angle  band_1_pixel_0  band_1_pixel_1  band_1_pixel_2  band_1_pixel_3  \\\n",
       "0    43.9239        0.379479        0.341160        0.227552        0.203953   \n",
       "1    38.1562        0.312667        0.286984        0.230311        0.308043   \n",
       "2    45.2859        0.381405        0.336507        0.324430        0.411993   \n",
       "3    43.8306        0.222102        0.189738        0.209668        0.255970   \n",
       "4    35.6256        0.283790        0.332612        0.367011        0.283782   \n",
       "\n",
       "   band_1_pixel_4  band_1_pixel_5  band_1_pixel_6  band_1_pixel_7  \\\n",
       "0        0.191204        0.191203        0.216043        0.295375   \n",
       "1        0.330327        0.263977        0.096065        0.145276   \n",
       "2        0.440371        0.564504        0.522418        0.411986   \n",
       "3        0.209666        0.182708        0.255967        0.332185   \n",
       "4        0.213542        0.213540        0.341545        0.341543   \n",
       "\n",
       "   band_1_pixel_8        ...          band_2_pixel_1216  band_2_pixel_1217  \\\n",
       "0        0.268654        ...                   0.443559           0.443559   \n",
       "1        0.263972        ...                   0.241897           0.241895   \n",
       "2        0.359585        ...                   0.602096           0.448465   \n",
       "3        0.299271        ...                   0.250509           0.280589   \n",
       "4        0.332594        ...                   0.220375           0.431798   \n",
       "\n",
       "   band_2_pixel_1218  band_2_pixel_1219  band_2_pixel_1220  band_2_pixel_1221  \\\n",
       "0           0.355697           0.402933           0.417113           0.443553   \n",
       "1           0.241895           0.258536           0.233136           0.233134   \n",
       "2           0.448463           0.537534           0.464346           0.479783   \n",
       "3           0.331840           0.319957           0.234020           0.216398   \n",
       "4           0.466202           0.457940           0.466197           0.474244   \n",
       "\n",
       "   band_2_pixel_1222  band_2_pixel_1223  band_2_pixel_1224  inc_angle_missing  \n",
       "0           0.430631           0.355690           0.443549                  0  \n",
       "1           0.224057           0.241887           0.274128                  0  \n",
       "2           0.577165           0.464338           0.157621                  0  \n",
       "3           0.216397           0.265983           0.343185                  0  \n",
       "4           0.474242           0.403292           0.360834                  0  \n",
       "\n",
       "[5 rows x 2452 columns]"
      ]
     },
     "execution_count": 184,
     "metadata": {},
     "output_type": "execute_result"
    }
   ],
   "source": [
    "X, y = DataLoader.load_train()\n",
    "\n",
    "def crop(img):\n",
    "    img = img.reshape(75, 75)[20:55, 20:55].flatten()\n",
    "    img = (img - img.min()) / (img.max() - img.min())\n",
    "    return img\n",
    "\n",
    "# Exploded embedded images so each pixel has its own column\n",
    "for band in ['band_1', 'band_2']:\n",
    "    X[band] = X[band].map(crop)\n",
    "    exploded = X[band].apply(pd.Series)\n",
    "    exploded.columns = ['{}_pixel_{}'.format(band, col) for col in exploded.columns]\n",
    "    X = X.join(exploded) \\\n",
    "         .drop(columns=band)\n",
    "        \n",
    "X['inc_angle_missing'] = X.inc_angle.map(lambda val: 1 if pd.isnull(val) else 0)\n",
    "X.head()"
   ]
  },
  {
   "cell_type": "code",
   "execution_count": 186,
   "metadata": {},
   "outputs": [
    {
     "name": "stdout",
     "output_type": "stream",
     "text": [
      "Scores - Mean: -0.448042 - STD: 0.00\n"
     ]
    }
   ],
   "source": [
    "from sklearn.preprocessing import (FunctionTransformer, RobustScaler as Scaler, Normalizer,\n",
    "                                   QuantileTransformer, \n",
    "                                   Imputer\n",
    "                                  )\n",
    "from sklearn.decomposition import PCA\n",
    "from sklearn.pipeline import Pipeline, FeatureUnion\n",
    "from xgboost.sklearn import XGBClassifier\n",
    "\n",
    "COLUMNS = X.columns\n",
    "\n",
    "def band1(x):\n",
    "    return x[:, [i for i in range(0, len(COLUMNS)) if COLUMNS[i].startswith('band_1')]]\n",
    "\n",
    "def band2(x):\n",
    "    return x[:, [i for i in range(0, len(COLUMNS)) if COLUMNS[i].startswith('band_2')]]\n",
    "\n",
    "def angle(x):\n",
    "    return x[:, [i for i in range(0, len(COLUMNS)) if COLUMNS[i] in ['inc_angle', 'inc_angle_missing']]]\n",
    "\n",
    "pipe = Pipeline(steps=[\n",
    "    ('imputer', Imputer(strategy='mean')),\n",
    "    ('feature_union', FeatureUnion(n_jobs=1, transformer_list=[\n",
    "        ('band_1_pipe', Pipeline(steps=[\n",
    "            ('band_1', FunctionTransformer(band1)),\n",
    "            ('band_1_norm', Normalizer()),\n",
    "            ('band_1_standard_scale', Scaler()),\n",
    "            #('band_1_qt', QuantileTransformer(output_distribution='uniform')),\n",
    "        ])),\n",
    "        ('band_2_pipe', Pipeline(steps=[\n",
    "            ('band_2', FunctionTransformer(band2)),\n",
    "            ('band_1_norm', Normalizer()),\n",
    "            ('band_2_standard_scale', Scaler()),\n",
    "            #('band_2_qt', QuantileTransformer(output_distribution='uniform')),\n",
    "        ])),\n",
    "        ('inc_angle', FunctionTransformer(angle))\n",
    "    ])),\n",
    "    ('xgboost', XGBClassifier())\n",
    "])\n",
    "\n",
    "scores = cross_val_score(pipe, X, y, scoring='neg_log_loss', cv=2)\n",
    "print('Scores - Mean: {:.6f} - STD: {:.2f}'.format(scores.mean(), scores.std()))"
   ]
  },
  {
   "cell_type": "code",
   "execution_count": 147,
   "metadata": {},
   "outputs": [
    {
     "data": {
      "text/plain": [
       "0.10536051565782628"
      ]
     },
     "execution_count": 147,
     "metadata": {},
     "output_type": "execute_result"
    }
   ],
   "source": [
    "from sklearn.metrics import log_loss\n",
    "\n",
    "log_loss([1, 0, 1, 0], [0.9, 0.1, 0.9, 0.1])"
   ]
  },
  {
   "cell_type": "code",
   "execution_count": 17,
   "metadata": {},
   "outputs": [
    {
     "data": {
      "text/plain": [
       "(100, 2)"
      ]
     },
     "execution_count": 17,
     "metadata": {},
     "output_type": "execute_result"
    }
   ],
   "source": [
    "rf = RandomForestClassifier()\n",
    "rf.fit(data, target)\n",
    "rf.predict_proba(data).shape"
   ]
  },
  {
   "cell_type": "code",
   "execution_count": 3,
   "metadata": {},
   "outputs": [
    {
     "data": {
      "image/png": "[encoded data removed]",
      "text/plain": [
       "<matplotlib.figure.Figure at 0x7f4ebcd028d0>"
      ]
     },
     "metadata": {},
     "output_type": "display_data"
    }
   ],
   "source": [
    "plt.imshow(xTest.iloc[0]['band_2'].reshape(-1, 75))\n",
    "plt.show()"
   ]
  },
  {
   "cell_type": "code",
   "execution_count": null,
   "metadata": {},
   "outputs": [],
   "source": []
  },
  {
   "cell_type": "code",
   "execution_count": 113,
   "metadata": {},
   "outputs": [
    {
     "data": {
      "text/plain": [
       "DoubleNet (\n",
       "  (pool): MaxPool2d (size=(2, 2), stride=(2, 2), dilation=(1, 1))\n",
       "  (input1_layer1_conv2d): Conv2d(1, 8, kernel_size=(7, 7), stride=(1, 1), padding=(5, 5))\n",
       "  (input1_layer2_conv2d): Conv2d(8, 16, kernel_size=(5, 5), stride=(1, 1), padding=(3, 3))\n",
       "  (input1_layer3_conv2d): Conv2d(16, 32, kernel_size=(3, 3), stride=(1, 1), padding=(1, 1))\n",
       "  (input1_layer4_fc): Linear (3200 -> 512)\n",
       "  (input2_layer1_conv2d): Conv2d(1, 8, kernel_size=(7, 7), stride=(1, 1), padding=(5, 5))\n",
       "  (input2_layer2_conv2d): Conv2d(8, 16, kernel_size=(5, 5), stride=(1, 1), padding=(3, 3))\n",
       "  (input2_layer3_conv2d): Conv2d(16, 32, kernel_size=(3, 3), stride=(1, 1), padding=(1, 1))\n",
       "  (input2_layer4_fc): Linear (3200 -> 512)\n",
       "  (input3_layer1_fc1): Linear (2 -> 24)\n",
       "  (fc1): Linear (1048 -> 512)\n",
       "  (fc2): Linear (512 -> 512)\n",
       "  (fc3): Linear (512 -> 1)\n",
       ")"
      ]
     },
     "execution_count": 113,
     "metadata": {},
     "output_type": "execute_result"
    }
   ],
   "source": [
    "class DoubleNet(nn.Module):\n",
    "    \n",
    "    def __init__(self):\n",
    "        super(DoubleNet, self).__init__()\n",
    "        \n",
    "        self.pool = nn.MaxPool2d(kernel_size=2, stride=2)\n",
    "        \n",
    "        # Input 1 branch\n",
    "        self.input1_layer1_conv2d = nn.Conv2d(in_channels=1, out_channels=8,  kernel_size=7, padding=5)\n",
    "        self.input1_layer2_conv2d = nn.Conv2d(in_channels=8, out_channels=16, kernel_size=5, padding=3)\n",
    "        self.input1_layer3_conv2d = nn.Conv2d(in_channels=16, out_channels=32, kernel_size=3, padding=1)\n",
    "        self.input1_layer4_fc = nn.Linear(in_features=3200, out_features=512)\n",
    "        \n",
    "        # Input 2 branch\n",
    "        self.input2_layer1_conv2d = nn.Conv2d(in_channels=1, out_channels=8,  kernel_size=7, padding=5)\n",
    "        self.input2_layer2_conv2d = nn.Conv2d(in_channels=8, out_channels=16, kernel_size=5, padding=3)\n",
    "        self.input2_layer3_conv2d = nn.Conv2d(in_channels=16, out_channels=32, kernel_size=3, padding=1)\n",
    "        self.input2_layer4_fc = nn.Linear(in_features=3200, out_features=512)\n",
    "        \n",
    "        # Input 3 branch \"inc_angle\"\n",
    "        self.input3_layer1_fc1 = nn.Linear(in_features=2, out_features=24)\n",
    "        \n",
    "        # Concatenated branch, fully connected stream\n",
    "        self.fc1 = nn.Linear(in_features=1048, out_features=512)\n",
    "        self.fc2 = nn.Linear(in_features=512, out_features=512)\n",
    "        self.fc3 = nn.Linear(in_features=512, out_features=1)\n",
    "        \n",
    "    def forward(self, input1, input2, input3):\n",
    "        \n",
    "        input1 = self.pool(F.relu(self.input1_layer1_conv2d(input1)))\n",
    "        input1 = self.pool(F.relu(self.input1_layer2_conv2d(input1)))\n",
    "        input1 = self.pool(F.relu(self.input1_layer3_conv2d(input1)))\n",
    "        input1 = F.relu(self.input1_layer4_fc(input1.view(-1, 3200)))\n",
    "        \n",
    "        input2 = self.pool(F.relu(self.input2_layer1_conv2d(input2)))\n",
    "        input2 = self.pool(F.relu(self.input2_layer2_conv2d(input2)))\n",
    "        input2 = self.pool(F.relu(self.input2_layer3_conv2d(input2)))\n",
    "        input2 = F.relu(self.input2_layer4_fc(input2.view(-1, 3200)))\n",
    "        \n",
    "        input3 = self.input3_layer1_fc1(input3)\n",
    "        \n",
    "        combined = torch.cat((input1, input2, input3), 1)\n",
    "        \n",
    "        combined = (self.fc1(combined))\n",
    "        combined = (self.fc2(combined))\n",
    "        combined = F.sigmoid(self.fc3(combined))\n",
    "        \n",
    "        return combined\n",
    "\n",
    "DoubleNet()"
   ]
  },
  {
   "cell_type": "code",
   "execution_count": 5,
   "metadata": {},
   "outputs": [
    {
     "data": {
      "text/plain": [
       "(1604, 3)"
      ]
     },
     "execution_count": 5,
     "metadata": {},
     "output_type": "execute_result"
    }
   ],
   "source": []
  },
  {
   "cell_type": "code",
   "execution_count": 125,
   "metadata": {},
   "outputs": [
    {
     "name": "stdout",
     "output_type": "stream",
     "text": [
      "transfering to cuda\n",
      "initializing model\n",
      "defining optimizers\n",
      "concatenated test data\n",
      "test data to variables\n",
      "starting training\n",
      "Epoch: 1 - Loss: 2.076000\n",
      "Epoch: 2 - Loss: 1.196142\n",
      "Epoch: 3 - Loss: 0.870083\n",
      "Epoch: 4 - Loss: 0.740674\n",
      "Epoch: 5 - Loss: 0.708482\n",
      "Epoch: 6 - Loss: 0.672659\n",
      "Epoch: 7 - Loss: 0.705477\n",
      "Epoch: 8 - Loss: 0.612550\n",
      "Epoch: 9 - Loss: 0.614219\n",
      "Epoch: 10 - Loss: 0.582758\n",
      "Epoch: 11 - Loss: 0.553874\n",
      "Epoch: 12 - Loss: 0.587189\n",
      "Epoch: 13 - Loss: 0.597466\n",
      "Epoch: 14 - Loss: 0.553963\n",
      "Epoch: 15 - Loss: 0.563541\n",
      "Epoch: 16 - Loss: 0.515052\n",
      "Epoch: 17 - Loss: 0.549819\n",
      "Epoch: 18 - Loss: 0.484234\n",
      "Epoch: 19 - Loss: 0.501610\n",
      "Epoch: 20 - Loss: 0.550184\n",
      "Epoch: 21 - Loss: 0.446855\n",
      "Epoch: 22 - Loss: 0.421391\n",
      "Epoch: 23 - Loss: 0.551787\n",
      "Epoch: 24 - Loss: 0.395196\n",
      "Epoch: 25 - Loss: 0.413363\n",
      "Epoch: 26 - Loss: 0.386812\n",
      "Epoch: 27 - Loss: 0.402467\n",
      "Epoch: 28 - Loss: 0.313353\n",
      "Epoch: 29 - Loss: 0.382273\n",
      "Epoch: 30 - Loss: 0.321432\n",
      "Epoch: 31 - Loss: 0.267831\n",
      "Epoch: 32 - Loss: 0.363179\n",
      "Epoch: 33 - Loss: 0.243628\n",
      "Epoch: 34 - Loss: 0.280022\n",
      "Epoch: 35 - Loss: 0.252617\n"
     ]
    }
   ],
   "source": [
    "print('transfering to cuda')\n",
    "print('initializing model')\n",
    "net = DoubleNet()\n",
    "net.cuda()\n",
    "\n",
    "n_epoch = 35\n",
    "batch_size = 300\n",
    "\n",
    "print('defining optimizers')\n",
    "optimizer = optim.Adam(net.parameters(), lr=0.001)\n",
    "criterion = nn.BCELoss()\n",
    "\n",
    "# Test data setup\n",
    "print('concatenated test data')\n",
    "testBand1 = np.concatenate(xTest.iloc[:]['band_1'].values, axis=0).reshape(-1, 1, 75, 75)\n",
    "testBand2 = np.concatenate(xTest.iloc[:]['band_2'].values, axis=0).reshape(-1, 1, 75, 75)\n",
    "testAngle = xTest.iloc[:][['inc_angle', 'inc_angle_was_null']].values.reshape(-1, 2)\n",
    "\n",
    "print('test data to variables')\n",
    "testBand1 = Variable(torch.FloatTensor(testBand1).cuda(), requires_grad=False)\n",
    "testBand2 = Variable(torch.FloatTensor(testBand2).cuda(), requires_grad=False)\n",
    "testAngle = Variable(torch.FloatTensor(testAngle).cuda(), requires_grad=False)\n",
    "\n",
    "print('starting training')\n",
    "for epoch in range(n_epoch):\n",
    "    \n",
    "    for sample in (np.random.randint(0, xTrain.shape[0], size=batch_size) \n",
    "                   for i in range(0, int(xTrain.shape[0] / batch_size))):\n",
    "        \n",
    "        band1 = np.concatenate(xTrain.iloc[sample]['band_1'].values, axis=0).reshape(-1, 1, 75, 75,)\n",
    "        band2 = np.concatenate(xTrain.iloc[sample]['band_2'].values, axis=0).reshape(-1, 1, 75, 75,)\n",
    "        angle = xTrain.iloc[sample][['inc_angle', 'inc_angle_was_null']].values.reshape(-1, 2)\n",
    "\n",
    "        band1 = Variable(torch.FloatTensor(band1).cuda())\n",
    "        band2 = Variable(torch.FloatTensor(band2).cuda())\n",
    "        angle = Variable(torch.FloatTensor(angle).cuda())\n",
    "        target = Variable(torch.FloatTensor(yTrain.iloc[sample].values.astype(float).reshape(-1, 1)).cuda())\n",
    "\n",
    "        # batch step\n",
    "        optimizer.zero_grad()\n",
    "\n",
    "        out = net(band1, band2, angle)\n",
    "        loss = criterion(out, target)\n",
    "        loss.backward()\n",
    "\n",
    "        optimizer.step()\n",
    "    \n",
    "    print('Epoch: {} - Loss: {:.6f}'.format(epoch+1, loss.data.cpu().numpy()[0]))\n",
    "    "
   ]
  },
  {
   "cell_type": "code",
   "execution_count": 126,
   "metadata": {},
   "outputs": [
    {
     "name": "stdout",
     "output_type": "stream",
     "text": [
      "[  8.10688734e-01   9.78571117e-01   4.79852649e-13   2.29496986e-01\n",
      "   7.57992625e-01   1.05010255e-25   4.22547273e-02   9.87084687e-01\n",
      "   3.90100852e-02   5.29151618e-01]\n"
     ]
    },
    {
     "data": {
      "text/plain": [
       "0.33689655363859888"
      ]
     },
     "execution_count": 126,
     "metadata": {},
     "output_type": "execute_result"
    }
   ],
   "source": [
    "# Check score of testing set\n",
    "from sklearn.metrics import log_loss\n",
    "\n",
    "pred = net(testBand1, testBand2, testAngle).data.cpu().numpy().squeeze()\n",
    "\n",
    "print(pred[:10])\n",
    "log_loss(yTest, pred, )"
   ]
  },
  {
   "cell_type": "code",
   "execution_count": 127,
   "metadata": {},
   "outputs": [
    {
     "data": {
      "text/plain": [
       "array([  8.10688734e-01,   9.78571117e-01,   4.79852649e-13,\n",
       "         2.29496986e-01,   7.57992625e-01,   1.05010255e-25,\n",
       "         4.22547273e-02,   9.87084687e-01,   3.90100852e-02,\n",
       "         5.29151618e-01], dtype=float32)"
      ]
     },
     "execution_count": 127,
     "metadata": {},
     "output_type": "execute_result"
    }
   ],
   "source": [
    "pred[:10]"
   ]
  },
  {
   "cell_type": "code",
   "execution_count": 112,
   "metadata": {},
   "outputs": [
    {
     "name": "stdout",
     "output_type": "stream",
     "text": [
      "torch.Size([2, 32, 10, 10])\n",
      "3200\n"
     ]
    },
    {
     "data": {
      "text/plain": [
       "Variable containing:\n",
       " 2.3612 -1.6764  0.6856  ...   1.2746 -0.7021  0.0448\n",
       " 2.2727 -1.8845  0.5845  ...   1.0592 -0.7833  0.0286\n",
       "[torch.FloatTensor of size 2x512]"
      ]
     },
     "execution_count": 112,
     "metadata": {},
     "output_type": "execute_result"
    }
   ],
   "source": [
    "# network layer trials\n",
    "input1_layer1_conv2d = nn.Conv2d(in_channels=1, out_channels=8,  kernel_size=7, padding=5)\n",
    "input1_layer2_conv2d = nn.Conv2d(in_channels=8, out_channels=16, kernel_size=5, padding=3)\n",
    "input1_layer3_conv2d = nn.Conv2d(in_channels=16, out_channels=32, kernel_size=3, padding=1)\n",
    "\n",
    "fc1 = nn.Linear(in_features=3200, out_features=512)\n",
    "pool = nn.MaxPool2d(kernel_size=2, stride=2)\n",
    "\n",
    "pics = np.concatenate(xTest.iloc[0:2]['band_2'].values, axis=0).reshape(-1, 1, 75, 75,)\n",
    "pics = torch.FloatTensor(pics)\n",
    "pics = Variable(pics)\n",
    "\n",
    "pics = pool(input1_layer1_conv2d(pics))\n",
    "pics = pool(input1_layer2_conv2d(pics))\n",
    "pics = pool(input1_layer3_conv2d(pics))\n",
    "print(pics.size())\n",
    "print(np.prod(pics.size()[1:]))\n",
    "\n",
    "fc1(pics.view(-1, 3200))"
   ]
  }
 ],
 "metadata": {
  "kernelspec": {
   "display_name": "Python 3",
   "language": "python",
   "name": "python3"
  },
  "language_info": {
   "codemirror_mode": {
    "name": "ipython",
    "version": 3
   },
   "file_extension": ".py",
   "mimetype": "text/x-python",
   "name": "python",
   "nbconvert_exporter": "python",
   "pygments_lexer": "ipython3",
   "version": "3.5.4"
  }
 },
 "nbformat": 4,
 "nbformat_minor": 2
}
