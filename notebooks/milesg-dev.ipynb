{
 "cells": [
  {
   "cell_type": "code",
   "execution_count": 1,
   "metadata": {},
   "outputs": [
    {
     "name": "stdout",
     "output_type": "stream",
     "text": [
      "Appending \"/code/notebooks/..\" to path\n"
     ]
    }
   ],
   "source": [
    "%matplotlib inline\n",
    "%config Completer.use_jedi=False\n",
    "\n",
    "import os\n",
    "import sys\n",
    "\n",
    "import numpy as np\n",
    "import pandas as pd\n",
    "import matplotlib.pyplot as plt\n",
    "\n",
    "import torch\n",
    "import torch.nn as nn\n",
    "import torch.nn.functional as F\n",
    "import torch.optim as optim\n",
    "from torch.autograd import Variable\n",
    "\n",
    "from sklearn.model_selection import train_test_split, cross_val_score\n",
    "from sklearn.utils import shuffle\n",
    "\n",
    "\n",
    "# Local imports\n",
    "import adjust_path  # Before doing any local imports\n",
    "from icc.data_loader import DataLoader\n",
    "from icc.models.gangsta_net import GangstaNet"
   ]
  },
  {
   "cell_type": "code",
   "execution_count": 52,
   "metadata": {},
   "outputs": [
    {
     "data": {
      "text/html": [
       "<div>\n",
       "<style scoped>\n",
       "    .dataframe tbody tr th:only-of-type {\n",
       "        vertical-align: middle;\n",
       "    }\n",
       "\n",
       "    .dataframe tbody tr th {\n",
       "        vertical-align: top;\n",
       "    }\n",
       "\n",
       "    .dataframe thead th {\n",
       "        text-align: right;\n",
       "    }\n",
       "</style>\n",
       "<table border=\"1\" class=\"dataframe\">\n",
       "  <thead>\n",
       "    <tr style=\"text-align: right;\">\n",
       "      <th></th>\n",
       "      <th>band_1</th>\n",
       "      <th>band_2</th>\n",
       "      <th>inc_angle</th>\n",
       "    </tr>\n",
       "  </thead>\n",
       "  <tbody>\n",
       "    <tr>\n",
       "      <th>0</th>\n",
       "      <td>[-27.878361, -27.15416, -28.668615, -29.537971...</td>\n",
       "      <td>[-27.154118, -29.537888, -31.0306, -32.190483,...</td>\n",
       "      <td>43.9239</td>\n",
       "    </tr>\n",
       "    <tr>\n",
       "      <th>1</th>\n",
       "      <td>[-12.242375, -14.920305, -14.920363, -12.66633...</td>\n",
       "      <td>[-31.506321, -27.984554, -26.645678, -23.76760...</td>\n",
       "      <td>38.1562</td>\n",
       "    </tr>\n",
       "    <tr>\n",
       "      <th>2</th>\n",
       "      <td>[-24.603676, -24.603714, -24.871029, -23.15277...</td>\n",
       "      <td>[-24.870956, -24.092632, -20.653963, -19.41104...</td>\n",
       "      <td>45.2859</td>\n",
       "    </tr>\n",
       "    <tr>\n",
       "      <th>3</th>\n",
       "      <td>[-22.454607, -23.082819, -23.998013, -23.99805...</td>\n",
       "      <td>[-27.889421, -27.519794, -27.165262, -29.10350...</td>\n",
       "      <td>43.8306</td>\n",
       "    </tr>\n",
       "    <tr>\n",
       "      <th>4</th>\n",
       "      <td>[-26.006956, -23.164886, -23.164886, -26.89116...</td>\n",
       "      <td>[-27.206915, -30.259186, -30.259186, -23.16495...</td>\n",
       "      <td>35.6256</td>\n",
       "    </tr>\n",
       "  </tbody>\n",
       "</table>\n",
       "</div>"
      ],
      "text/plain": [
       "                                              band_1  \\\n",
       "0  [-27.878361, -27.15416, -28.668615, -29.537971...   \n",
       "1  [-12.242375, -14.920305, -14.920363, -12.66633...   \n",
       "2  [-24.603676, -24.603714, -24.871029, -23.15277...   \n",
       "3  [-22.454607, -23.082819, -23.998013, -23.99805...   \n",
       "4  [-26.006956, -23.164886, -23.164886, -26.89116...   \n",
       "\n",
       "                                              band_2  inc_angle  \n",
       "0  [-27.154118, -29.537888, -31.0306, -32.190483,...    43.9239  \n",
       "1  [-31.506321, -27.984554, -26.645678, -23.76760...    38.1562  \n",
       "2  [-24.870956, -24.092632, -20.653963, -19.41104...    45.2859  \n",
       "3  [-27.889421, -27.519794, -27.165262, -29.10350...    43.8306  \n",
       "4  [-27.206915, -30.259186, -30.259186, -23.16495...    35.6256  "
      ]
     },
     "execution_count": 52,
     "metadata": {},
     "output_type": "execute_result"
    }
   ],
   "source": [
    "X, y = DataLoader.load_train()\n",
    "X.head()"
   ]
  },
  {
   "cell_type": "code",
   "execution_count": 79,
   "metadata": {},
   "outputs": [
    {
     "name": "stdout",
     "output_type": "stream",
     "text": [
      "663\n"
     ]
    },
    {
     "data": {
      "text/plain": [
       "<matplotlib.image.AxesImage at 0x7f895efbb908>"
      ]
     },
     "execution_count": 79,
     "metadata": {},
     "output_type": "execute_result"
    },
    {
     "data": {
      "image/png": "[encoded data removed]",
      "text/plain": [
       "<matplotlib.figure.Figure at 0x7f895ed112b0>"
      ]
     },
     "metadata": {},
     "output_type": "display_data"
    }
   ],
   "source": [
    "from skimage.transform import resize\n",
    "from scipy import ndimage\n",
    "\n",
    "X, y = DataLoader.load_train()\n",
    "\n",
    "idx = np.random.randint(0, X.shape[0])\n",
    "print(idx)\n",
    "pic = X.iloc[idx].band_1\n",
    "\n",
    "\n",
    "def transform(pic):\n",
    "    \n",
    "    pic = pic.reshape(75, 75)\n",
    "    pic = ndimage.gaussian_filter(pic, sigma=(2, 2), )\n",
    "    \n",
    "    indxs = np.linspace(5, 70, 60, dtype=int)\n",
    "\n",
    "    x_idx = max([{'idx': i, 'val': pic[:, i].max()} for i in indxs], key=lambda k: k['val'])['idx']\n",
    "    y_idx = max([{'idx': i, 'val': pic[i, :].max()} for i in indxs], key=lambda k: k['val'])['idx']\n",
    "    \n",
    "    buffer = 20\n",
    "    x_idx = x_idx if x_idx - buffer > 0 and x_idx + buffer < 75 else 37\n",
    "    y_idx = y_idx if y_idx - buffer > 0 and y_idx + buffer < 75 else 37\n",
    "\n",
    "    \n",
    "    pic = pic[:, x_idx-buffer:x_idx+buffer]\n",
    "    pic = pic[y_idx-buffer:y_idx+buffer, :]\n",
    " \n",
    "    pic = resize(pic, output_shape=(32, 32), mode='reflect')\n",
    "    return pic.flatten()\n",
    "\n",
    "pic = pic.reshape(75, 75)\n",
    "\n",
    "from scipy.misc import imresize\n",
    "\n",
    "pic = transform(pic)\n",
    "plt.imshow(pic.reshape(32, 32))"
   ]
  },
  {
   "cell_type": "code",
   "execution_count": 80,
   "metadata": {},
   "outputs": [
    {
     "data": {
      "text/html": [
       "<div>\n",
       "<style scoped>\n",
       "    .dataframe tbody tr th:only-of-type {\n",
       "        vertical-align: middle;\n",
       "    }\n",
       "\n",
       "    .dataframe tbody tr th {\n",
       "        vertical-align: top;\n",
       "    }\n",
       "\n",
       "    .dataframe thead th {\n",
       "        text-align: right;\n",
       "    }\n",
       "</style>\n",
       "<table border=\"1\" class=\"dataframe\">\n",
       "  <thead>\n",
       "    <tr style=\"text-align: right;\">\n",
       "      <th></th>\n",
       "      <th>inc_angle</th>\n",
       "      <th>band_1_pixel_0</th>\n",
       "      <th>band_1_pixel_1</th>\n",
       "      <th>band_1_pixel_2</th>\n",
       "      <th>band_1_pixel_3</th>\n",
       "      <th>band_1_pixel_4</th>\n",
       "      <th>band_1_pixel_5</th>\n",
       "      <th>band_1_pixel_6</th>\n",
       "      <th>band_1_pixel_7</th>\n",
       "      <th>band_1_pixel_8</th>\n",
       "      <th>...</th>\n",
       "      <th>band_2_pixel_1015</th>\n",
       "      <th>band_2_pixel_1016</th>\n",
       "      <th>band_2_pixel_1017</th>\n",
       "      <th>band_2_pixel_1018</th>\n",
       "      <th>band_2_pixel_1019</th>\n",
       "      <th>band_2_pixel_1020</th>\n",
       "      <th>band_2_pixel_1021</th>\n",
       "      <th>band_2_pixel_1022</th>\n",
       "      <th>band_2_pixel_1023</th>\n",
       "      <th>inc_angle_missing</th>\n",
       "    </tr>\n",
       "  </thead>\n",
       "  <tbody>\n",
       "    <tr>\n",
       "      <th>0</th>\n",
       "      <td>43.9239</td>\n",
       "      <td>0.298651</td>\n",
       "      <td>0.303977</td>\n",
       "      <td>0.307478</td>\n",
       "      <td>0.304045</td>\n",
       "      <td>0.292002</td>\n",
       "      <td>0.276557</td>\n",
       "      <td>0.263925</td>\n",
       "      <td>0.256480</td>\n",
       "      <td>0.253182</td>\n",
       "      <td>...</td>\n",
       "      <td>0.384615</td>\n",
       "      <td>0.392288</td>\n",
       "      <td>0.394090</td>\n",
       "      <td>0.387484</td>\n",
       "      <td>0.378758</td>\n",
       "      <td>0.376067</td>\n",
       "      <td>0.377878</td>\n",
       "      <td>0.376748</td>\n",
       "      <td>0.370368</td>\n",
       "      <td>0</td>\n",
       "    </tr>\n",
       "    <tr>\n",
       "      <th>1</th>\n",
       "      <td>38.1562</td>\n",
       "      <td>0.237387</td>\n",
       "      <td>0.246427</td>\n",
       "      <td>0.260859</td>\n",
       "      <td>0.275291</td>\n",
       "      <td>0.284003</td>\n",
       "      <td>0.284640</td>\n",
       "      <td>0.279096</td>\n",
       "      <td>0.271513</td>\n",
       "      <td>0.266830</td>\n",
       "      <td>...</td>\n",
       "      <td>0.240916</td>\n",
       "      <td>0.238942</td>\n",
       "      <td>0.244417</td>\n",
       "      <td>0.252624</td>\n",
       "      <td>0.259824</td>\n",
       "      <td>0.264287</td>\n",
       "      <td>0.266684</td>\n",
       "      <td>0.268119</td>\n",
       "      <td>0.267873</td>\n",
       "      <td>0</td>\n",
       "    </tr>\n",
       "    <tr>\n",
       "      <th>2</th>\n",
       "      <td>45.2859</td>\n",
       "      <td>0.389864</td>\n",
       "      <td>0.404053</td>\n",
       "      <td>0.411963</td>\n",
       "      <td>0.407728</td>\n",
       "      <td>0.398572</td>\n",
       "      <td>0.397190</td>\n",
       "      <td>0.405737</td>\n",
       "      <td>0.417818</td>\n",
       "      <td>0.426505</td>\n",
       "      <td>...</td>\n",
       "      <td>0.481904</td>\n",
       "      <td>0.481704</td>\n",
       "      <td>0.486153</td>\n",
       "      <td>0.499067</td>\n",
       "      <td>0.514016</td>\n",
       "      <td>0.520327</td>\n",
       "      <td>0.514820</td>\n",
       "      <td>0.505067</td>\n",
       "      <td>0.501147</td>\n",
       "      <td>0</td>\n",
       "    </tr>\n",
       "    <tr>\n",
       "      <th>3</th>\n",
       "      <td>43.8306</td>\n",
       "      <td>0.246372</td>\n",
       "      <td>0.246096</td>\n",
       "      <td>0.252000</td>\n",
       "      <td>0.258051</td>\n",
       "      <td>0.259279</td>\n",
       "      <td>0.259346</td>\n",
       "      <td>0.262998</td>\n",
       "      <td>0.268304</td>\n",
       "      <td>0.267991</td>\n",
       "      <td>...</td>\n",
       "      <td>0.285975</td>\n",
       "      <td>0.286366</td>\n",
       "      <td>0.281927</td>\n",
       "      <td>0.276523</td>\n",
       "      <td>0.274162</td>\n",
       "      <td>0.278165</td>\n",
       "      <td>0.287878</td>\n",
       "      <td>0.300008</td>\n",
       "      <td>0.311495</td>\n",
       "      <td>0</td>\n",
       "    </tr>\n",
       "    <tr>\n",
       "      <th>4</th>\n",
       "      <td>35.6256</td>\n",
       "      <td>0.386213</td>\n",
       "      <td>0.379652</td>\n",
       "      <td>0.366984</td>\n",
       "      <td>0.352437</td>\n",
       "      <td>0.341718</td>\n",
       "      <td>0.339542</td>\n",
       "      <td>0.344426</td>\n",
       "      <td>0.352276</td>\n",
       "      <td>0.360633</td>\n",
       "      <td>...</td>\n",
       "      <td>0.449514</td>\n",
       "      <td>0.444608</td>\n",
       "      <td>0.451449</td>\n",
       "      <td>0.463678</td>\n",
       "      <td>0.472623</td>\n",
       "      <td>0.473058</td>\n",
       "      <td>0.468419</td>\n",
       "      <td>0.464585</td>\n",
       "      <td>0.463557</td>\n",
       "      <td>0</td>\n",
       "    </tr>\n",
       "  </tbody>\n",
       "</table>\n",
       "<p>5 rows × 2050 columns</p>\n",
       "</div>"
      ],
      "text/plain": [
       "   inc_angle  band_1_pixel_0  band_1_pixel_1  band_1_pixel_2  band_1_pixel_3  \\\n",
       "0    43.9239        0.298651        0.303977        0.307478        0.304045   \n",
       "1    38.1562        0.237387        0.246427        0.260859        0.275291   \n",
       "2    45.2859        0.389864        0.404053        0.411963        0.407728   \n",
       "3    43.8306        0.246372        0.246096        0.252000        0.258051   \n",
       "4    35.6256        0.386213        0.379652        0.366984        0.352437   \n",
       "\n",
       "   band_1_pixel_4  band_1_pixel_5  band_1_pixel_6  band_1_pixel_7  \\\n",
       "0        0.292002        0.276557        0.263925        0.256480   \n",
       "1        0.284003        0.284640        0.279096        0.271513   \n",
       "2        0.398572        0.397190        0.405737        0.417818   \n",
       "3        0.259279        0.259346        0.262998        0.268304   \n",
       "4        0.341718        0.339542        0.344426        0.352276   \n",
       "\n",
       "   band_1_pixel_8        ...          band_2_pixel_1015  band_2_pixel_1016  \\\n",
       "0        0.253182        ...                   0.384615           0.392288   \n",
       "1        0.266830        ...                   0.240916           0.238942   \n",
       "2        0.426505        ...                   0.481904           0.481704   \n",
       "3        0.267991        ...                   0.285975           0.286366   \n",
       "4        0.360633        ...                   0.449514           0.444608   \n",
       "\n",
       "   band_2_pixel_1017  band_2_pixel_1018  band_2_pixel_1019  band_2_pixel_1020  \\\n",
       "0           0.394090           0.387484           0.378758           0.376067   \n",
       "1           0.244417           0.252624           0.259824           0.264287   \n",
       "2           0.486153           0.499067           0.514016           0.520327   \n",
       "3           0.281927           0.276523           0.274162           0.278165   \n",
       "4           0.451449           0.463678           0.472623           0.473058   \n",
       "\n",
       "   band_2_pixel_1021  band_2_pixel_1022  band_2_pixel_1023  inc_angle_missing  \n",
       "0           0.377878           0.376748           0.370368                  0  \n",
       "1           0.266684           0.268119           0.267873                  0  \n",
       "2           0.514820           0.505067           0.501147                  0  \n",
       "3           0.287878           0.300008           0.311495                  0  \n",
       "4           0.468419           0.464585           0.463557                  0  \n",
       "\n",
       "[5 rows x 2050 columns]"
      ]
     },
     "execution_count": 80,
     "metadata": {},
     "output_type": "execute_result"
    }
   ],
   "source": [
    "X, y = DataLoader.load_train()\n",
    "\n",
    "\n",
    "\n",
    "def norm_by_pic(img):\n",
    "    #img = img.reshape(75, 75)[20:55, 20:55].flatten()\n",
    "    img = (img - img.min()) / (img.max() - img.min())\n",
    "    return img\n",
    "\n",
    "# Exploded embedded images so each pixel has its own column\n",
    "for band in ['band_1', 'band_2']:\n",
    "    X[band] = X[band].map(norm_by_pic)\n",
    "    X[band] = X[band].map(transform)\n",
    "    exploded = X[band].apply(pd.Series)\n",
    "    exploded.columns = ['{}_pixel_{}'.format(band, col) for col in exploded.columns]\n",
    "    X = X.join(exploded) \\\n",
    "         .drop(columns=band)\n",
    "        \n",
    "X['inc_angle_missing'] = X.inc_angle.map(lambda val: 1 if pd.isnull(val) else 0)\n",
    "X.head()"
   ]
  },
  {
   "cell_type": "code",
   "execution_count": 123,
   "metadata": {},
   "outputs": [
    {
     "name": "stdout",
     "output_type": "stream",
     "text": [
      "Scores - Mean: -0.356569 - STD: 0.02\n"
     ]
    }
   ],
   "source": [
    "from sklearn.preprocessing import (FunctionTransformer, RobustScaler as Scaler, Normalizer,\n",
    "                                   QuantileTransformer, \n",
    "                                   Imputer\n",
    "                                  )\n",
    "from sklearn.decomposition import PCA\n",
    "from sklearn.pipeline import Pipeline, FeatureUnion\n",
    "from xgboost.sklearn import XGBClassifier\n",
    "from sklearn.ensemble import AdaBoostClassifier, RandomForestClassifier, ExtraTreesClassifier\n",
    "\n",
    "COLUMNS = X.columns\n",
    "\n",
    "def band1(x):\n",
    "    return x[:, [i for i in range(0, len(COLUMNS)) if COLUMNS[i].startswith('band_1')]]\n",
    "\n",
    "def band2(x):\n",
    "    return x[:, [i for i in range(0, len(COLUMNS)) if COLUMNS[i].startswith('band_2')]]\n",
    "\n",
    "def angle(x):\n",
    "    return x[:, [i for i in range(0, len(COLUMNS)) if COLUMNS[i] in ['inc_angle', 'inc_angle_missing']]]\n",
    "\n",
    "pipe = Pipeline(steps=[\n",
    "    ('imputer', Imputer(strategy='median')),\n",
    "    ('feature_union', FeatureUnion(n_jobs=1, transformer_list=[\n",
    "        ('band_1_pipe', Pipeline(steps=[\n",
    "            ('band_1', FunctionTransformer(band1)),\n",
    "            ('band_1_standard_scale', Scaler()),\n",
    "        ])),\n",
    "        ('band_2_pipe', Pipeline(steps=[\n",
    "            ('band_2', FunctionTransformer(band2)),\n",
    "            ('band_2_standard_scale', Scaler()),\n",
    "        ])),\n",
    "        ('inc_angle', FunctionTransformer(angle))\n",
    "    ])),\n",
    "    ('xgboost', XGBClassifier(n_estimators=100))\n",
    "])\n",
    "\n",
    "scores = cross_val_score(pipe, X, y, scoring='neg_log_loss', cv=2)\n",
    "print('Scores - Mean: {:.6f} - STD: {:.2f}'.format(scores.mean(), scores.std()))"
   ]
  },
  {
   "cell_type": "code",
   "execution_count": 44,
   "metadata": {},
   "outputs": [],
   "source": [
    "from sklearn.metrics import log_loss, make_scorer\n",
    "\n",
    "scorer = make_scorer(log_loss, greater_is_better=False, needs_proba=True)"
   ]
  },
  {
   "cell_type": "code",
   "execution_count": 17,
   "metadata": {},
   "outputs": [
    {
     "data": {
      "text/plain": [
       "(100, 2)"
      ]
     },
     "execution_count": 17,
     "metadata": {},
     "output_type": "execute_result"
    }
   ],
   "source": [
    "rf = RandomForestClassifier()\n",
    "rf.fit(data, target)\n",
    "rf.predict_proba(data).shape"
   ]
  },
  {
   "cell_type": "code",
   "execution_count": 3,
   "metadata": {},
   "outputs": [
    {
     "data": {
      "image/png": "[encoded data removed]",
      "text/plain": [
       "<matplotlib.figure.Figure at 0x7f4ebcd028d0>"
      ]
     },
     "metadata": {},
     "output_type": "display_data"
    }
   ],
   "source": [
    "plt.imshow(xTest.iloc[0]['band_2'].reshape(-1, 75))\n",
    "plt.show()"
   ]
  },
  {
   "cell_type": "code",
   "execution_count": null,
   "metadata": {},
   "outputs": [],
   "source": []
  },
  {
   "cell_type": "code",
   "execution_count": 113,
   "metadata": {},
   "outputs": [
    {
     "data": {
      "text/plain": [
       "DoubleNet (\n",
       "  (pool): MaxPool2d (size=(2, 2), stride=(2, 2), dilation=(1, 1))\n",
       "  (input1_layer1_conv2d): Conv2d(1, 8, kernel_size=(7, 7), stride=(1, 1), padding=(5, 5))\n",
       "  (input1_layer2_conv2d): Conv2d(8, 16, kernel_size=(5, 5), stride=(1, 1), padding=(3, 3))\n",
       "  (input1_layer3_conv2d): Conv2d(16, 32, kernel_size=(3, 3), stride=(1, 1), padding=(1, 1))\n",
       "  (input1_layer4_fc): Linear (3200 -> 512)\n",
       "  (input2_layer1_conv2d): Conv2d(1, 8, kernel_size=(7, 7), stride=(1, 1), padding=(5, 5))\n",
       "  (input2_layer2_conv2d): Conv2d(8, 16, kernel_size=(5, 5), stride=(1, 1), padding=(3, 3))\n",
       "  (input2_layer3_conv2d): Conv2d(16, 32, kernel_size=(3, 3), stride=(1, 1), padding=(1, 1))\n",
       "  (input2_layer4_fc): Linear (3200 -> 512)\n",
       "  (input3_layer1_fc1): Linear (2 -> 24)\n",
       "  (fc1): Linear (1048 -> 512)\n",
       "  (fc2): Linear (512 -> 512)\n",
       "  (fc3): Linear (512 -> 1)\n",
       ")"
      ]
     },
     "execution_count": 113,
     "metadata": {},
     "output_type": "execute_result"
    }
   ],
   "source": [
    "class DoubleNet(nn.Module):\n",
    "    \n",
    "    def __init__(self):\n",
    "        super(DoubleNet, self).__init__()\n",
    "        \n",
    "        self.pool = nn.MaxPool2d(kernel_size=2, stride=2)\n",
    "        \n",
    "        # Input 1 branch\n",
    "        self.input1_layer1_conv2d = nn.Conv2d(in_channels=1, out_channels=8,  kernel_size=7, padding=5)\n",
    "        self.input1_layer2_conv2d = nn.Conv2d(in_channels=8, out_channels=16, kernel_size=5, padding=3)\n",
    "        self.input1_layer3_conv2d = nn.Conv2d(in_channels=16, out_channels=32, kernel_size=3, padding=1)\n",
    "        self.input1_layer4_fc = nn.Linear(in_features=3200, out_features=512)\n",
    "        \n",
    "        # Input 2 branch\n",
    "        self.input2_layer1_conv2d = nn.Conv2d(in_channels=1, out_channels=8,  kernel_size=7, padding=5)\n",
    "        self.input2_layer2_conv2d = nn.Conv2d(in_channels=8, out_channels=16, kernel_size=5, padding=3)\n",
    "        self.input2_layer3_conv2d = nn.Conv2d(in_channels=16, out_channels=32, kernel_size=3, padding=1)\n",
    "        self.input2_layer4_fc = nn.Linear(in_features=3200, out_features=512)\n",
    "        \n",
    "        # Input 3 branch \"inc_angle\"\n",
    "        self.input3_layer1_fc1 = nn.Linear(in_features=2, out_features=24)\n",
    "        \n",
    "        # Concatenated branch, fully connected stream\n",
    "        self.fc1 = nn.Linear(in_features=1048, out_features=512)\n",
    "        self.fc2 = nn.Linear(in_features=512, out_features=512)\n",
    "        self.fc3 = nn.Linear(in_features=512, out_features=1)\n",
    "        \n",
    "    def forward(self, input1, input2, input3):\n",
    "        \n",
    "        input1 = self.pool(F.relu(self.input1_layer1_conv2d(input1)))\n",
    "        input1 = self.pool(F.relu(self.input1_layer2_conv2d(input1)))\n",
    "        input1 = self.pool(F.relu(self.input1_layer3_conv2d(input1)))\n",
    "        input1 = F.relu(self.input1_layer4_fc(input1.view(-1, 3200)))\n",
    "        \n",
    "        input2 = self.pool(F.relu(self.input2_layer1_conv2d(input2)))\n",
    "        input2 = self.pool(F.relu(self.input2_layer2_conv2d(input2)))\n",
    "        input2 = self.pool(F.relu(self.input2_layer3_conv2d(input2)))\n",
    "        input2 = F.relu(self.input2_layer4_fc(input2.view(-1, 3200)))\n",
    "        \n",
    "        input3 = self.input3_layer1_fc1(input3)\n",
    "        \n",
    "        combined = torch.cat((input1, input2, input3), 1)\n",
    "        \n",
    "        combined = (self.fc1(combined))\n",
    "        combined = (self.fc2(combined))\n",
    "        combined = F.sigmoid(self.fc3(combined))\n",
    "        \n",
    "        return combined\n",
    "\n",
    "DoubleNet()"
   ]
  },
  {
   "cell_type": "code",
   "execution_count": 5,
   "metadata": {},
   "outputs": [
    {
     "data": {
      "text/plain": [
       "(1604, 3)"
      ]
     },
     "execution_count": 5,
     "metadata": {},
     "output_type": "execute_result"
    }
   ],
   "source": []
  },
  {
   "cell_type": "code",
   "execution_count": 125,
   "metadata": {},
   "outputs": [
    {
     "name": "stdout",
     "output_type": "stream",
     "text": [
      "transfering to cuda\n",
      "initializing model\n",
      "defining optimizers\n",
      "concatenated test data\n",
      "test data to variables\n",
      "starting training\n",
      "Epoch: 1 - Loss: 2.076000\n",
      "Epoch: 2 - Loss: 1.196142\n",
      "Epoch: 3 - Loss: 0.870083\n",
      "Epoch: 4 - Loss: 0.740674\n",
      "Epoch: 5 - Loss: 0.708482\n",
      "Epoch: 6 - Loss: 0.672659\n",
      "Epoch: 7 - Loss: 0.705477\n",
      "Epoch: 8 - Loss: 0.612550\n",
      "Epoch: 9 - Loss: 0.614219\n",
      "Epoch: 10 - Loss: 0.582758\n",
      "Epoch: 11 - Loss: 0.553874\n",
      "Epoch: 12 - Loss: 0.587189\n",
      "Epoch: 13 - Loss: 0.597466\n",
      "Epoch: 14 - Loss: 0.553963\n",
      "Epoch: 15 - Loss: 0.563541\n",
      "Epoch: 16 - Loss: 0.515052\n",
      "Epoch: 17 - Loss: 0.549819\n",
      "Epoch: 18 - Loss: 0.484234\n",
      "Epoch: 19 - Loss: 0.501610\n",
      "Epoch: 20 - Loss: 0.550184\n",
      "Epoch: 21 - Loss: 0.446855\n",
      "Epoch: 22 - Loss: 0.421391\n",
      "Epoch: 23 - Loss: 0.551787\n",
      "Epoch: 24 - Loss: 0.395196\n",
      "Epoch: 25 - Loss: 0.413363\n",
      "Epoch: 26 - Loss: 0.386812\n",
      "Epoch: 27 - Loss: 0.402467\n",
      "Epoch: 28 - Loss: 0.313353\n",
      "Epoch: 29 - Loss: 0.382273\n",
      "Epoch: 30 - Loss: 0.321432\n",
      "Epoch: 31 - Loss: 0.267831\n",
      "Epoch: 32 - Loss: 0.363179\n",
      "Epoch: 33 - Loss: 0.243628\n",
      "Epoch: 34 - Loss: 0.280022\n",
      "Epoch: 35 - Loss: 0.252617\n"
     ]
    }
   ],
   "source": [
    "print('transfering to cuda')\n",
    "print('initializing model')\n",
    "net = DoubleNet()\n",
    "net.cuda()\n",
    "\n",
    "n_epoch = 35\n",
    "batch_size = 300\n",
    "\n",
    "print('defining optimizers')\n",
    "optimizer = optim.Adam(net.parameters(), lr=0.001)\n",
    "criterion = nn.BCELoss()\n",
    "\n",
    "# Test data setup\n",
    "print('concatenated test data')\n",
    "testBand1 = np.concatenate(xTest.iloc[:]['band_1'].values, axis=0).reshape(-1, 1, 75, 75)\n",
    "testBand2 = np.concatenate(xTest.iloc[:]['band_2'].values, axis=0).reshape(-1, 1, 75, 75)\n",
    "testAngle = xTest.iloc[:][['inc_angle', 'inc_angle_was_null']].values.reshape(-1, 2)\n",
    "\n",
    "print('test data to variables')\n",
    "testBand1 = Variable(torch.FloatTensor(testBand1).cuda(), requires_grad=False)\n",
    "testBand2 = Variable(torch.FloatTensor(testBand2).cuda(), requires_grad=False)\n",
    "testAngle = Variable(torch.FloatTensor(testAngle).cuda(), requires_grad=False)\n",
    "\n",
    "print('starting training')\n",
    "for epoch in range(n_epoch):\n",
    "    \n",
    "    for sample in (np.random.randint(0, xTrain.shape[0], size=batch_size) \n",
    "                   for i in range(0, int(xTrain.shape[0] / batch_size))):\n",
    "        \n",
    "        band1 = np.concatenate(xTrain.iloc[sample]['band_1'].values, axis=0).reshape(-1, 1, 75, 75,)\n",
    "        band2 = np.concatenate(xTrain.iloc[sample]['band_2'].values, axis=0).reshape(-1, 1, 75, 75,)\n",
    "        angle = xTrain.iloc[sample][['inc_angle', 'inc_angle_was_null']].values.reshape(-1, 2)\n",
    "\n",
    "        band1 = Variable(torch.FloatTensor(band1).cuda())\n",
    "        band2 = Variable(torch.FloatTensor(band2).cuda())\n",
    "        angle = Variable(torch.FloatTensor(angle).cuda())\n",
    "        target = Variable(torch.FloatTensor(yTrain.iloc[sample].values.astype(float).reshape(-1, 1)).cuda())\n",
    "\n",
    "        # batch step\n",
    "        optimizer.zero_grad()\n",
    "\n",
    "        out = net(band1, band2, angle)\n",
    "        loss = criterion(out, target)\n",
    "        loss.backward()\n",
    "\n",
    "        optimizer.step()\n",
    "    \n",
    "    print('Epoch: {} - Loss: {:.6f}'.format(epoch+1, loss.data.cpu().numpy()[0]))\n",
    "    "
   ]
  },
  {
   "cell_type": "code",
   "execution_count": 126,
   "metadata": {},
   "outputs": [
    {
     "name": "stdout",
     "output_type": "stream",
     "text": [
      "[  8.10688734e-01   9.78571117e-01   4.79852649e-13   2.29496986e-01\n",
      "   7.57992625e-01   1.05010255e-25   4.22547273e-02   9.87084687e-01\n",
      "   3.90100852e-02   5.29151618e-01]\n"
     ]
    },
    {
     "data": {
      "text/plain": [
       "0.33689655363859888"
      ]
     },
     "execution_count": 126,
     "metadata": {},
     "output_type": "execute_result"
    }
   ],
   "source": [
    "# Check score of testing set\n",
    "from sklearn.metrics import log_loss\n",
    "\n",
    "pred = net(testBand1, testBand2, testAngle).data.cpu().numpy().squeeze()\n",
    "\n",
    "print(pred[:10])\n",
    "log_loss(yTest, pred, )"
   ]
  },
  {
   "cell_type": "code",
   "execution_count": 127,
   "metadata": {},
   "outputs": [
    {
     "data": {
      "text/plain": [
       "array([  8.10688734e-01,   9.78571117e-01,   4.79852649e-13,\n",
       "         2.29496986e-01,   7.57992625e-01,   1.05010255e-25,\n",
       "         4.22547273e-02,   9.87084687e-01,   3.90100852e-02,\n",
       "         5.29151618e-01], dtype=float32)"
      ]
     },
     "execution_count": 127,
     "metadata": {},
     "output_type": "execute_result"
    }
   ],
   "source": [
    "pred[:10]"
   ]
  },
  {
   "cell_type": "code",
   "execution_count": 112,
   "metadata": {},
   "outputs": [
    {
     "name": "stdout",
     "output_type": "stream",
     "text": [
      "torch.Size([2, 32, 10, 10])\n",
      "3200\n"
     ]
    },
    {
     "data": {
      "text/plain": [
       "Variable containing:\n",
       " 2.3612 -1.6764  0.6856  ...   1.2746 -0.7021  0.0448\n",
       " 2.2727 -1.8845  0.5845  ...   1.0592 -0.7833  0.0286\n",
       "[torch.FloatTensor of size 2x512]"
      ]
     },
     "execution_count": 112,
     "metadata": {},
     "output_type": "execute_result"
    }
   ],
   "source": [
    "# network layer trials\n",
    "input1_layer1_conv2d = nn.Conv2d(in_channels=1, out_channels=8,  kernel_size=7, padding=5)\n",
    "input1_layer2_conv2d = nn.Conv2d(in_channels=8, out_channels=16, kernel_size=5, padding=3)\n",
    "input1_layer3_conv2d = nn.Conv2d(in_channels=16, out_channels=32, kernel_size=3, padding=1)\n",
    "\n",
    "fc1 = nn.Linear(in_features=3200, out_features=512)\n",
    "pool = nn.MaxPool2d(kernel_size=2, stride=2)\n",
    "\n",
    "pics = np.concatenate(xTest.iloc[0:2]['band_2'].values, axis=0).reshape(-1, 1, 75, 75,)\n",
    "pics = torch.FloatTensor(pics)\n",
    "pics = Variable(pics)\n",
    "\n",
    "pics = pool(input1_layer1_conv2d(pics))\n",
    "pics = pool(input1_layer2_conv2d(pics))\n",
    "pics = pool(input1_layer3_conv2d(pics))\n",
    "print(pics.size())\n",
    "print(np.prod(pics.size()[1:]))\n",
    "\n",
    "fc1(pics.view(-1, 3200))"
   ]
  }
 ],
 "metadata": {
  "kernelspec": {
   "display_name": "Python 3",
   "language": "python",
   "name": "python3"
  },
  "language_info": {
   "codemirror_mode": {
    "name": "ipython",
    "version": 3
   },
   "file_extension": ".py",
   "mimetype": "text/x-python",
   "name": "python",
   "nbconvert_exporter": "python",
   "pygments_lexer": "ipython3",
   "version": "3.5.4"
  }
 },
 "nbformat": 4,
 "nbformat_minor": 2
}
