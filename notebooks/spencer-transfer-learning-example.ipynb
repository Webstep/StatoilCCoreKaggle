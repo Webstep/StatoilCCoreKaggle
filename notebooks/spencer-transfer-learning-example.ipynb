{
 "cells": [
  {
   "cell_type": "markdown",
   "metadata": {},
   "source": [
    "## Transfer Learning with VGG16 example"
   ]
  },
  {
   "cell_type": "code",
   "execution_count": null,
   "metadata": {},
   "outputs": [],
   "source": [
    "# Local imports\n",
    "import adjust_path  # Before doing any local imports\n",
    "from icc.data_loader import DataLoader\n",
    "from icc.models.finetuning_models import *"
   ]
  },
  {
   "cell_type": "code",
   "execution_count": null,
   "metadata": {},
   "outputs": [],
   "source": [
    "X, y = DataLoader.load_train()"
   ]
  },
  {
   "cell_type": "code",
   "execution_count": null,
   "metadata": {
    "scrolled": false
   },
   "outputs": [],
   "source": [
    "# You must the bottleneck features first.\n",
    "#tl = TransferLearnModel(basenet='VGG16', verbose=True, save_bottleneck_feats=True)\n",
    "\n",
    "# Execute line only if you have saved bottleneck features.\n",
    "tl = TransferLearnModel(basenet='VGG16', verbose=False, save_bottleneck_feats=False)\n",
    "tl.fit(X, y)"
   ]
  },
  {
   "cell_type": "code",
   "execution_count": null,
   "metadata": {},
   "outputs": [],
   "source": [
    "probabilities = tl.predict_proba(X)"
   ]
  },
  {
   "cell_type": "code",
   "execution_count": null,
   "metadata": {},
   "outputs": [],
   "source": [
    "predictions = tl.predict(X)"
   ]
  },
  {
   "cell_type": "code",
   "execution_count": null,
   "metadata": {},
   "outputs": [],
   "source": []
  },
  {
   "cell_type": "code",
   "execution_count": null,
   "metadata": {},
   "outputs": [],
   "source": []
  },
  {
   "cell_type": "code",
   "execution_count": null,
   "metadata": {},
   "outputs": [],
   "source": []
  },
  {
   "cell_type": "markdown",
   "metadata": {},
   "source": [
    "### Extra fluff: nothing to see here."
   ]
  },
  {
   "cell_type": "code",
   "execution_count": null,
   "metadata": {},
   "outputs": [],
   "source": [
    "# Build VGG16 model and load weights\n",
    "vgg_model = VGG16(input_shape=(75,75,3), include_top=False, weights='imagenet', classes=1, pooling=max)\n",
    "vgg_input = Input(shape=(75,75,3), name='image_input')\n",
    "vgg_output = vgg_model(vgg_input)\n",
    "\n",
    "# Top portion of model\n",
    "x_top = GlobalMaxPooling2D()(vgg_output)\n",
    "x_top = Dense(1)(x_top)\n",
    "x_top = Activation('sigmoid', name='predictions')(x_top)\n",
    "\n",
    "# Create my own model\n",
    "model = Model(inputs=vgg_input, outputs=x_top)\n",
    "\n",
    "model.summary()\n",
    "\n",
    "# Optimization algorithm for training model\n",
    "opt = Nadam(lr=0.0001, epsilon=1e-8)\n",
    "model.compile(optimizer=opt, loss='binary_crossentropy', metrics=['accuracy'])\n",
    "\n",
    "# Fit model with data\n",
    "model_history = model.fit(X_train, y_train, \n",
    "                          epochs=5,\n",
    "                          verbose=2,\n",
    "                          batch_size=32,\n",
    "                          validation_data=(X_valid, y_valid))"
   ]
  },
  {
   "cell_type": "code",
   "execution_count": null,
   "metadata": {},
   "outputs": [],
   "source": []
  }
 ],
 "metadata": {
  "kernelspec": {
   "display_name": "Python 3",
   "language": "python",
   "name": "python3"
  },
  "language_info": {
   "codemirror_mode": {
    "name": "ipython",
    "version": 3
   },
   "file_extension": ".py",
   "mimetype": "text/x-python",
   "name": "python",
   "nbconvert_exporter": "python",
   "pygments_lexer": "ipython3",
   "version": "3.5.4"
  }
 },
 "nbformat": 4,
 "nbformat_minor": 2
}
