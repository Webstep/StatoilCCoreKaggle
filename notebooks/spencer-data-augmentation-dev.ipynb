{
 "cells": [
  {
   "cell_type": "code",
   "execution_count": null,
   "metadata": {},
   "outputs": [],
   "source": [
    "%matplotlib inline\n",
    "import cv2\n",
    "import imgaug\n",
    "import matplotlib.pyplot as plt\n",
    "import numpy as np\n",
    "import pandas as pd\n",
    "import pickle\n",
    "\n",
    "from imgaug import augmenters as ima\n",
    "\n",
    "# Local imports\n",
    "import adjust_path  # Before doing any local imports\n",
    "from icc.data_loader import DataLoader\n",
    "from icc.models.alexnet_model import AlexNet\n",
    "from icc.models.spencer.alexnet.preprocessing import *"
   ]
  },
  {
   "cell_type": "markdown",
   "metadata": {},
   "source": [
    "Ref:\n",
    "https://github.com/aleju/imgaug"
   ]
  },
  {
   "cell_type": "code",
   "execution_count": null,
   "metadata": {},
   "outputs": [],
   "source": [
    "# Load data\n",
    "X, y = DataLoader.load_train()"
   ]
  },
  {
   "cell_type": "code",
   "execution_count": null,
   "metadata": {},
   "outputs": [],
   "source": [
    "def plt_imgs(im, labels, c='gray'):\n",
    "    # plt_imgs(timgs, y_train[:10])\n",
    "    ids = ['ship', 'iceberg']\n",
    "    \n",
    "    for i in range(10):\n",
    "        print('{}: {}'.format(i, ids[labels[i]]))\n",
    "        if c=='gray':\n",
    "            plt.imshow(np.squeeze(im[i]))\n",
    "        plt.pause(1)"
   ]
  },
  {
   "cell_type": "code",
   "execution_count": null,
   "metadata": {},
   "outputs": [],
   "source": [
    "def get_bands(X):\n",
    "    band_1 = np.asarray(X['band_1'].tolist()).reshape(-1,75,75)\n",
    "    band_1 = band_1[:,:,:,np.newaxis]\n",
    "    band_2 = np.asarray(X['band_2'].tolist()).reshape(-1,75,75)\n",
    "    band_2 = band_2[:,:,:,np.newaxis]\n",
    "    return [band_1, band_2]\n",
    "\n",
    "def emboss_and_shear(imgs):\n",
    "    seq = ima.Sequential([ima.Emboss(alpha=1, strength=2.0), ima.Affine(scale=1.0, shear=45)])\n",
    "    return seq.augment_images(imgs)\n",
    "    \n",
    "def affine_and_translate(imgs):\n",
    "    seq = ima.Sequential([ima.Affine(scale=1.0, translate_percent=0.2)])\n",
    "    return seq.augment_images(imgs)\n",
    "\n",
    "def constrast_norm(imgs):\n",
    "    seq = ima.Sequential([ima.ContrastNormalization((0.4, 0.6))])\n",
    "    return seq.augment_images(imgs)\n",
    "\n",
    "def crop_and_resize(imgs):\n",
    "    cropped = np.squeeze(imgs)[:, 10:10+50, 10:10+50]\n",
    "    m = len(cropped)\n",
    "    h, w = 75, 75\n",
    "\n",
    "    resized = np.zeros((m, h, w))\n",
    "    for i,img in enumerate(cropped):\n",
    "        resized[i,:,:] = cv2.resize(img, (h, w), interpolation= cv2.INTER_AREA)\n",
    "    return resized[:,:,:,np.newaxis]\n",
    "\n",
    "def flipLR_and_rotate(imgs):\n",
    "    seq = ima.Sequential([ima.Fliplr((0.6)), ima.Affine(scale=1.0, rotate=90)])\n",
    "    return seq.augment_images(imgs)"
   ]
  },
  {
   "cell_type": "code",
   "execution_count": null,
   "metadata": {},
   "outputs": [],
   "source": [
    "def data_augmentation_edit():\n",
    "    band_1, band_2 = get_bands(X)\n",
    "    \n",
    "    b1_augmented = np.concatenate([band_1, \n",
    "                                   emboss_and_shear(band_1), \n",
    "                                   affine_and_translate(band_1),\n",
    "                                   crop_and_resize(band_1),\n",
    "                                   flipLR_and_rotate(band_1),\n",
    "                                   constrast_norm(band_1)])\n",
    "\n",
    "    b2_augmented = np.concatenate([band_2, \n",
    "                                   emboss_and_shear(band_2), \n",
    "                                   affine_and_translate(band_2),\n",
    "                                   crop_and_resize(band_2),\n",
    "                                   flipLR_and_rotate(band_2),\n",
    "                                   constrast_norm(band_2)])\n",
    "    \n",
    "    return pd.DataFrame({'band_1': np.squeeze(b1_augmented).reshape(-1,75*75).tolist(), \n",
    "                         'band_2': np.squeeze(b2_augmented).reshape(-1,75*75).tolist()})"
   ]
  },
  {
   "cell_type": "code",
   "execution_count": null,
   "metadata": {},
   "outputs": [],
   "source": [
    "data = data_augmentation_edit()\n",
    "\n",
    "data['band_1'] = data['band_1'].map(np.array)\n",
    "data['band_2'] = data['band_2'].map(np.array)\n",
    "data['is_iceberg'] = np.tile(y, 6)"
   ]
  },
  {
   "cell_type": "code",
   "execution_count": null,
   "metadata": {},
   "outputs": [],
   "source": [
    "data.to_json('../data/train_augmented.json')"
   ]
  }
 ],
 "metadata": {
  "kernelspec": {
   "display_name": "Python 3",
   "language": "python",
   "name": "python3"
  },
  "language_info": {
   "codemirror_mode": {
    "name": "ipython",
    "version": 3
   },
   "file_extension": ".py",
   "mimetype": "text/x-python",
   "name": "python",
   "nbconvert_exporter": "python",
   "pygments_lexer": "ipython3",
   "version": "3.5.4"
  }
 },
 "nbformat": 4,
 "nbformat_minor": 2
}
